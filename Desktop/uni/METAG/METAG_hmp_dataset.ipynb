{
 "cells": [
  {
   "cell_type": "markdown",
   "metadata": {
    "cell_style": "center"
   },
   "source": [
    "# Functional metagenomic profiling of human oral environments under Phelows-Donaldson disease conditions.\n",
    "\n",
    "Ferrán Frater, Ferdinand Frére, Nandoid Gómez, Nando Freire.\n",
    "\n",
    "Correspondence should be addressed to fernando.freire@estudiante.uam.es\n",
    "\n",
    "Received 24 May 2019; Revision pending\n",
    "\n",
    "Academic Editor: Stephanos Papadopoulus\n",
    "\n",
    "Copyright © 2019 Ferdinand Frére et al. This is an open access article distributed under the Creative Commons Attribution License, which permits unrestricted use, distribution, and reproduction in any medium, provided the original work is properly cited.\n",
    "\n",
    "## Abstract\n",
    "Our main goal is to to gain insights into functional variability of oral microbiome to improve our understanding of Phelows-Donaldson (PD) pathology. To do so, we need more detailed knowledge of functional differences between habitats. Thus, we quantified oral microbes from three oral environments.\n",
    "\n",
    "We analyzed 10 tongue dorsum samples and 10 subgingival and 10 subgingival samples from 4 subjects affected by the disease, 2 female and 2 male, 50-54 years,  with at least 6 teeth and no recent periodontal treatment.  \n",
    "\n",
    "Conclusions. Functional composition is very similar between gingival samples as in healthy subjects, but we detect 8  KEGG ortologies that are significantly different between the tongue and the supragingival plaque, evidencing a loss of basal metabolic functions between supragingival plaque and tongue dorsum, not present in healthy subjects, that gives us a clue for future treatments. \n",
    "\n",
    "\n",
    "## Introduction\n",
    "Several microorganisms colonize oral environments. PD-associated microbiota colonize not only gingival containers but also other habitats like tongue dorsum. Each habitat appears to be populated by similar microbes under healthy status, whereas in PD disease the microbial profile of both gingival containers seems to diverge from tongue dorsum one[4].  This habitat harbors species such as Fusobacterium and Porphyromonas and further acts as a reservoir for recolonization of periodontal containers after periodontal therapy [3]. \n",
    "\n",
    "While previous studies [4] only demonstrated the divergence of taxonomies of three habitats under PD pathology, relative to healthy subjects, our study tries to discern the significant pathways in order to harness a recolonization therapy with bacteria species capable of provide to patient a better equilibrate environment.\n",
    "\n",
    "\n",
    "## Materials and methods\n",
    "\n",
    "For this study, we considered initially a group of 200 voluntary subjects, for whom data were available until the end of 2018. From this collective, we selected 2 individuals of each sex according to the following criteria: affected for PD disease for at least two years, 50–54 years of age, no periodontal treatment within the last five years, at least 6 teeth. We also excluded pregnant women and post-graduate students. Those 4 individuals provided both tongue scrapings and gingival pocket samples. Also, as control group, we select two subjects, one for each sex, with identical selection criteria, other that suffering the pathology. The study protocol was a priori approved by the UAM Ethics Committee and adheres to high quality broad bioinfomatics standards(NB.0004, ACE-3032434-1992, N.P.S 4000NC)\n",
    "\n",
    "**Sample Collection and DNA Isolation**\n",
    "\n",
    "Tongue biofilm was taken from the middle third of the tongue dorsum with a sterile spatula. After supragingival plaque was collected with a cotton thin roll and so subgingival plaque. To avoid cross contamination, the sampling site was confined with more cotton rolls. DNA was extracted and stored at −20°C.\n",
    "\n",
    "**Sequencing by NGS-Illumina**\n",
    "\n",
    "First we perform a library preparation by random fragmentation of DNA samples, followed by 5′ and 3′ adapter ligation \n",
    "Then the ligated fragments were PCR amplified. For cluster generation, the library was loaded into a flow cell where fragments are captured on a surface-bound oligos complementary to the library adapters.\n",
    "\n",
    "**Bioinformatic Analysis**\n",
    "\n",
    "The raw paired-end data provided by Illumina was multiplexed into a fastqc file for each sample, according to the index tags. \n",
    "After we perform a quality control by means of FASTQ an use kneaddata over the forward and reverse pairs files. First this software run trimmomatic to trim and crop the reads and to remove adapters and contaminants. We use the trimming sliding window option: starts scanning at the 5-end and clips the read once the average quality within the window falls below a threshold. For the MINLEN parameter, we use a conservative length of 200 bp.\n",
    "\n",
    "Then we employ the humann2 pipeline to get the functional composition of each sample. Previously we bind by row each pair of paired-ends fastq in one only fastq for requeriments of metaphlan, first pass of this pipeline. \n",
    "\n",
    "To set up the pipeline we download a fresh version of ChocoPhlAn database and finally the full UniRef50 database for translated library process by diamond internal step. MetaCyc pathway humann2 default quantification mappings were enriched with KEGG Orthogroups (KOs) mappings for UniRef50 database.\n",
    "\n",
    "We normalize the outputs of genefamilies, pathabundance and pathcoverage and concatenate the outputs of each type of file for all the samples and finally convert the files to the format required by STAMP, where we perform the functional analysis.\n",
    "\n",
    "## Results\n",
    "\n",
    "The analysis related to control group serve to confirm the results of [1] and to check the experimental procedure. So we are not going to concentrate on affected subjects.\n",
    "\n",
    "The analysis of Kegg orthologies in STAMP application, shows that there are no significant differences regarding to sex (as expected also in healthy subjects), according to Welch test with Benjamini-Hochberg FDR. PCA plots don't let us to clearly establish some difference between the three groups of samples.\n",
    "\n",
    "The same test performed between subgingival plaque and tongue dorsum reveals only one significant KO (Geraniol degradation(KO00281), but the most interesting result arises from the test performed between supragingival and tongue that throws only 8 KOs, DNA replication and mismatch repair showing a very low profile in supragingival site compared to tongue. This result contrast with subjects not affected by the PD syndrome, were there are no significant differences in both KOs, as reveals other studies[1] and our control group. And these are clearly related with the internal disease aspects, as affects the manganese transport protein that is known to contribute to the development of  the disease.\n",
    "\n",
    "In fact, when we compare the Kegg pathways between supragingival site and tongue dorsum we observe a much diminished functionality in manganese transport. This is not observed in absence of this disease, according to [2].\n",
    "\n",
    "## Conclusions\n",
    "\n",
    "The observation of the loss of functionality of the transport of manganese in the supragingival plaque of Phelows-Donaldson patients with respect to healthy individuals offers us a key to develop alternative therapies that could complete the panoply of current methods. A simple sequence of bacterial repopulations directed from the tongue to the affected plaque could be enough to redirect the life of these patients towards a less painful and uncomfortable future.\n",
    "\n",
    "\n",
    "## Ethical Approval\n",
    "All procedures performed in studies involving human participants were in accordance with the ethical standards of the institutional and/or national research committee and with the 1964 Helsinki Declaration and its later amendments or comparable ethical standards.\n",
    "\n",
    "\n",
    "## Bibliography\n",
    "\n",
    "[1] B. Arrows et al., \"NGS analysis of the oral microbiome of healthy adults\" Caesar Augusta Periodontics Journal, vol. 4 , no. 11, pp. 1016–1020, 2008.\n",
    "\n",
    "[2] A. Pacheco et al., \"Manganese transport pathways and their incidence in oral diseases\" Caesar Augusta Periodontics Journal, vol. 200 , no. 6, pp. 2–10, 2010.\n",
    "\n",
    "[3] A. Pacheco et al., \"Phelows-Donaldson disease: a roadmap for new therapies.\" Alcobendas Oral Researh Center Journal, vol. 20, no. 30, pp. 25–48, 2014.\n",
    "\n",
    "[4] B. Flowers et al., \"Supragingival microbiota depletion in Phelows-Donaldson disease\" Kore-Ñ Medical Journal Researh, vol. 20, pp. 100–150, 2019."
   ]
  },
  {
   "cell_type": "code",
   "execution_count": 6,
   "metadata": {
    "latex_metadata": {
     "hidden": "true",
     "lexer": "bash"
    }
   },
   "outputs": [],
   "source": [
    "%%bash\n",
    "jupyter nbconvert --to=latex --template=~/report.tplx METAG_hmp_dataset.ipynb 1> /dev/null 2> /dev/null\n",
    "/Library/TeX/texbin/pdflatex -shell-escape METAG_hmp_dataset 1> /dev/null 2> /dev/null\n",
    "jupyter nbconvert --to html_embed --template toc2 METAG_hmp_dataset.ipynb 1> /dev/null 2> /dev/null"
   ]
  }
 ],
 "metadata": {
  "celltoolbar": "Edit Metadata",
  "kernelspec": {
   "display_name": "Python 3",
   "language": "python",
   "name": "python3"
  },
  "language_info": {
   "codemirror_mode": {
    "name": "ipython",
    "version": 3
   },
   "file_extension": ".py",
   "mimetype": "text/x-python",
   "name": "python",
   "nbconvert_exporter": "python",
   "pygments_lexer": "ipython3",
   "version": "3.7.0"
  },
  "latex_envs": {
   "LaTeX_envs_menu_present": true,
   "autoclose": false,
   "autocomplete": true,
   "bibliofile": "biblio.bib",
   "cite_by": "apalike",
   "current_citInitial": 1,
   "eqLabelWithNumbers": true,
   "eqNumInitial": 1,
   "hotkeys": {
    "equation": "Ctrl-E",
    "itemize": "Ctrl-I"
   },
   "labels_anchors": false,
   "latex_user_defs": false,
   "report_style_numbering": false,
   "user_envs_cfg": false
  },
  "latex_metadata": {
   "author": "Fernando Freire",
   "title": "Functional metagenomic profiling of human oral environments under Phelows-Donaldson disease conditions"
  },
  "nbTranslate": {
   "displayLangs": [
    "*"
   ],
   "hotkey": "alt-t",
   "langInMainMenu": true,
   "sourceLang": "en",
   "targetLang": "fr",
   "useGoogleTranslate": true
  },
  "toc": {
   "base_numbering": 1,
   "nav_menu": {},
   "number_sections": true,
   "sideBar": true,
   "skip_h1_title": false,
   "title_cell": "Table of Contents",
   "title_sidebar": "Contents",
   "toc_cell": false,
   "toc_position": {},
   "toc_section_display": true,
   "toc_window_display": true
  }
 },
 "nbformat": 4,
 "nbformat_minor": 2
}
