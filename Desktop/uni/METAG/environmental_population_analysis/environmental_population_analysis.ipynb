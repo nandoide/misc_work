{
 "cells": [
  {
   "attachments": {},
   "cell_type": "markdown",
   "metadata": {},
   "source": [
    "#  Environmental analysis\n",
    "\n",
    "![scheme](img01.jpg\n",
    ")\n",
    "\n",
    "RW: Raw Water before treatment\n",
    "\n",
    "BC: Before Chlorination\n",
    "\n",
    "FW: Finished Water \n",
    "\n",
    "DS1-DS3: tap water\n",
    "\n",
    "PB1-PB2: biofilm in pipes\n",
    "\n",
    "WM: biofilm in water meters\n",
    "\n",
    "We are going to study the variation of microbial populations before entering the circuit (RW), at the end of the treatment (FW) and tap water samples in three houses (DS1, DS2 and DS3). We will also study samples taken in June and July. \n",
    "\n",
    "I propose you to run the pipeline I showed you in Unit 2 whit this dataset and answer the following questions:\n",
    "\n",
    "1)\tHow many reads have we got for each sample?\n",
    "\n",
    "2)\tWhich is the trimming length you are using for the denoising step?\n",
    "\n",
    "3)\tHow many ASVs do you have before filtering deblur-table? And after filtering? \n",
    "\n",
    "4)\tWhich is the average frequency of sequences per sample before filtering deblur table?\n",
    "\n",
    "5)\tWhich is the sample with the lower number of sequences after filtering deblur table? And the one with the highest number?\n",
    "\n",
    "6)\tWhich is the most abundant phylum in each sample?\n",
    "\n",
    "7)\tHas the study enough coverage to allow us to make any statistical inference on communities’ diversity?\n",
    "\n",
    "8)\tStudying the Unifrac Weighted PCoA plot. Is there any effect of water treatment or sampling moment on the bacteria communities? \n",
    "\n",
    "9)\tIf we compare Untreated samples (RW) vs Treated samples (FW, DS1, DS2, DS3) which are the Phyla or Classes explaining the differences among both groups? (Hint: use LEfSe)\n",
    "\n",
    "**Dataset Contents**:\n",
    "\n",
    "1)\tfastq folder: raw sample sequences\n",
    "\n",
    "2)\t85_otus.fasta and 85_otus_taxonomy.txt: taxonomy database\n",
    "\n",
    "3)\tmetadata.txt: sample metadata. I have included some columns useful for diversity analyses.\n",
    "\n",
    "4)\tprimers.txt: information on primers used for 16S PCR amplification\n",
    "\n",
    "5)\tquiz.docx: this file\n",
    "\n",
    "6)\tsamplemanifest: manifest file with information of the ubication of  fastq files and their corresponding tags."
   ]
  },
  {
   "cell_type": "markdown",
   "metadata": {},
   "source": [
    "## Responses"
   ]
  },
  {
   "attachments": {},
   "cell_type": "markdown",
   "metadata": {},
   "source": [
    "1)\tHow many reads have we got for each sample?\n",
    "\n",
    "\n",
    ">From *grep* against fastq files and verified after import on *qiime*.\n",
    "\n",
    "| File              |#reads|\n",
    "| :------------------|--------:|\n",
    "|SRR3593621_1.fastq |52945| \n",
    "|SRR3593621_2.fastq |52945|\n",
    "|SRR3593622_1.fastq |62218|\n",
    "|SRR3593622_2.fastq |62218|\n",
    "|SRR3593623_1.fastq |92740|\n",
    "|SRR3593623_2.fastq |92740|\n",
    "|SRR3593625_1.fastq |70366|\n",
    "|SRR3593625_2.fastq |70366|\n",
    "|SRR3593627_1.fastq |100615|\n",
    "|SRR3593627_2.fastq |100615|\n",
    "|SRR3593628_1.fastq |78495|\n",
    "|SRR3593628_2.fastq |78495|\n",
    "|SRR3593631_1.fastq |97332|\n",
    "|SRR3593631_2.fastq |97332|\n",
    "|SRR3593632_1.fastq |84361|\n",
    "|SRR3593632_2.fastq |84361|\n",
    "|SRR3593664_1.fastq |101827|\n",
    "|SRR3593664_2.fastq |101827|\n",
    "|SRR3593665_1.fastq |84850|\n",
    "|SRR3593665_2.fastq |84850|\n",
    "\n",
    "\n",
    "2)\tWhich is the trimming length you are using for the denoising step?\n",
    "\n",
    "> The qualiy of the reads is incremented substantially after the merge step by VSEARCH, consequence of a great overlap within forward and reverse sequences. In fact the filtering by means of 'qiime quality-filter q-score-joined' doesn't drop any read.\n",
    "\n",
    ">I choose $372$ that retains $Q >= 38$.\n",
    "\n",
    "3)\tHow many ASVs do you have before filtering deblur-table? And after filtering? \n",
    "\n",
    ">Before filtering I've $765$ features after $104$.\n",
    "\n",
    "4)\tWhich is the average frequency of sequences per sample before filtering deblur table?\n",
    ">$30,070$\n",
    "\n",
    "5)\tWhich is the sample with the lower number of sequences after filtering deblur table? And the one with the highest number?\n",
    "\n",
    "The sample $SRR3593622$ has the lower number of sequences : $15,296$\n",
    "The sample $SRR3593631$ has the higher number of sequences : $41,934$\n",
    "\n",
    "6)\tWhich is the most abundant phylum in each sample?\n",
    "\n",
    "The marked in the table of figure 2.\n",
    "\n",
    "\n",
    "![Taxonomy by philum](taxonomy.jpg)\n",
    "\n",
    "7)\tHas the study enough coverage to allow us to make any statistical inference on communities diversity?\n",
    "Yes, the rarefaction curves reach saturation asymptotic pattern, no more reads would give us more observed OTUS (figure 3).\n",
    "\n",
    "![Rarefaction curves](rarefaction.jpg)\n",
    "\n",
    "8)\tStudying the Unifrac Weighted PCoA plot. Is there any effect of water treatment or sampling moment on the bacteria communities? \n",
    "\n",
    "The water treatment groups cluster together nearly over axis2-axis3 plane, and the not treated water groups far along the axis1. As axis1 explains 43% of differences, we conclude that treated groups are most in common between than between the not treated groups (figure 4).\n",
    "\n",
    "Also the graph evidences the dissimilarity between DS3 groups and the other treated groups, above on the axis2. The biofilm presence in the distribution, surely is the explaining factor.\n",
    "\n",
    "![PCoA groups](pcoa_groups.png)\n",
    "\n",
    "The difference in months are less relevant as seen in figure 5. In the case of treated groups month juny groups cluster nearer to the axis2.\n",
    "\n",
    "![PCoA months](pcoa_months.png)\n",
    "\n",
    "9)\tIf we compare Untreated samples (RW) vs Treated samples (FW, DS1, DS2, DS3) which are the Phyla or Classes explaining the differences among both groups? (Hint: use LEfSe)\n",
    "\n",
    "The classes are drawn in the figure 6 LDA representation (TT treated and TN untrated). The most explanatory respectively are cyanobacteria and sphirocaetes + OP11, coherently with the table of question 6.\n",
    "\n",
    "Also the graph evidences the higher diversity in the not treated water, as expected.\n",
    "\n",
    "![LDA treated/not treated](lda_tt_nt.png)"
   ]
  },
  {
   "cell_type": "markdown",
   "metadata": {},
   "source": [
    "## Pipeline"
   ]
  },
  {
   "cell_type": "markdown",
   "metadata": {},
   "source": [
    "### Preprocessing and quality check\n"
   ]
  },
  {
   "cell_type": "code",
   "execution_count": 5,
   "metadata": {},
   "outputs": [],
   "source": [
    "import warnings\n",
    "warnings.filterwarnings('ignore')\n",
    "import pandas as pd\n",
    "import matplotlib.pyplot as plt\n",
    "\n",
    "FILE_ID = \"SRR\"\n",
    "FASTQ_STR = \"@SRR\""
   ]
  },
  {
   "cell_type": "code",
   "execution_count": 103,
   "metadata": {},
   "outputs": [
    {
     "name": "stdout",
     "output_type": "stream",
     "text": [
      "==> SRR3593621_1.fastq <==\n",
      "@SRR3593621.1 1 length=300\n",
      "TACGTAGGGTGCAAGCGTTATCCGGATTCACTGTTCTTCCCTATTCGTTTAGTTTTTTTTTTCCTTCTCACTTCACAGCCCTTTGCTTTACCTCGTCCTTCTTTTCTTCTTTACTATACTCGTTTTTTATATTTGTACGTGGTTCTCCTTTTTGTTCTGTGCCTTGCGTTGTGTTCTTGTTGTACCCCAATTGCCATTGCTCCTTTCTTCTTCATTCCTGTCACTCTTCCACGCAAGCTATCGTACTCCATCAGTTTAGTCCCCTCCTTTTTTCTAGCCCTCAACTCTTCCCTGCTAGTT\n",
      "+SRR3593621.1 1 length=300\n",
      "<6BCCGGGGGGGGGGGGGG7CEE6+,8@@,;C,,,<,<,,,,,,;6,;,6,,,;-,:+8+86,,,<9,:,6CE,,,,,,66,,,,,5:,,6696,,8,89,,,9,<,,,,9,,,:,<,,95+,+++9+,9,,,,,,,,+,,+++:>;,74,4,+,,5,,8,,,,8,,+66+++,66,7,,,,,,:,:5++,,+2,,,,+3+74<2=2@,,+22,5,5*4+,4*/5++++3*.)*)((//++(-(((*+*))+)))3.)))++,/;*/(/)//587))6((,(*),-.).)-44)43)).-\n",
      "\n",
      "==> SRR3593621_2.fastq <==\n",
      "@SRR3593621.1 1 length=300\n",
      "TTTCCTCTTTCTCTCTTCCTCCCCACCCTTCCTCCTTCCCTCTTTCTCTTCCTTCTCTCCTCACATTCTCCTCCCTCCCCTGCTTCCCTTTATTTCTCCCTCTACTCCTCTCTCTTCTCTGCTTCTCTCCTCTACCTTTCGTTTCTCAGTGTCATCTATTTCCCTGCCCGTTGCCTTCTCCTTTCTTCTTCCTCCTCATCTCCACTCATTTCACTTCTCCTCCATGCTTTCCCCTTTCCTCTATCACCCTCCACTCTCTTCCTCTCCTCCCCCACGCCCCCTTTACGCCCCGTCCTTTCC\n",
      "+SRR3593621.1 1 length=300\n",
      "88@--;<C@,C,-6;,6,<C@E@C,+,8,,,;;,B@C,,65;,4>,,@A?,5,6;,;,C6,,,,,,6,,,,6,,8;,,8,,,4,:,5,,94,,,,99,,,,,9,9,4,,,,,,,5+,3>9+934459526389+,923<9*0*09;@**3*26*++6*6++20+*))++**4)10008*03>*0*+0*3:;+:9):)**320**3*))*3;;*205:;=D*80)1*)**+*001010:8;87**3*;018>5))>@E):7A*19/))*)-/-)-5(-(((((()))((((.(((,//./)\n",
      "\n",
      "==> SRR3593622_1.fastq <==\n",
      "@SRR3593622.1 1 length=300\n",
      "TACGAAGGGGGCTAGCGTTGTTCGGATTTACTGGGCGTAAAGCGCACGTAGGCGGTTTTTTAAGTCAGGGGTGAAATCCCAAGGCTCAACCTTGGAACTGCCTTTGATACTGGAAGTCTCGAGTCCGGGAGAGGTGAGTGGAATTGCTAGTGTAGAGGTGAAATTCGTAGATATTCGCAAGAACACCAGTGGCGAAGGCGGCTCACTGGCCCGGTACTGACGCTGAGGTGCGAAAGCGTGGGGAGCAAACAGGATTAGATACCCTGGTAGTCCACGCCGTAAACTATGGATGCTAGCCGT\n",
      "+SRR3593622.1 1 length=300\n",
      "CCCC@FFGGGGGGGGGGGGGGGGGGGGGFFCFFFGECFFGGGFG:+8@EFFG@FF+>BDDEE<EFC,C,,@FEGFGEE?=,,:?DFAFFGEEE9<,,4A?=<EFD<,A<?F9,,,::AF;?<7DF?>F+8@==FF7,,9=+F,,:,@,,8@FDFE9=:D*>D,@3=CDGGDFFGFAD>>7CC,>,>FE,C<7<=E=@EDB75>5+2A8+*8*/*211:48CE1:*775C)4>?>>B73;@DB66>>*;D5(<<07@?F66<CF86*546<AAB6<BF?0>?::<<2<62).,3994(,,4\n",
      "\n",
      "==> SRR3593622_2.fastq <==\n",
      "@SRR3593622.1 1 length=300\n",
      "TTTAACCTTGCGACCGTACTCCCCAGGCGGGATGCTTAATGCGTTAGCTGCGCCACTGAACAGCTAGCTGCCCAACGGCTAGCATCCATAGTTTACGGCGTTGACTACCACGCTATCTAATCCTCTTTTCTCCCCACGCTTTCGCACCTCAGCGTCAGTACCTTGCCAGTGTGCCGCCTTCGCCACTGTTGTTCTCCCGACTCTCTACGCCTTTCACCTCTCCACTCCCAGTTCCACTCTCCCCTCCCGTACTCGAGACTTCCATTTTCAAAGGCAGTTCCAAGTTTTCGCCTTGGCATT\n",
      "+SRR3593622.1 1 length=300\n",
      "AC<8-;FFFFGC+7@:FFGGEGEGGF@C@+++8,BFG@,,:@>CE@6EE,@76,+CC6,,:,,4,,,:6,99C,,8=+84+,,,:94,9,,9C@,54+>68+++B;,4A,,++8+<>;,+53?;,5>@,24;+;@8>+3=0=0+0*@)1A)*389**)53+4*+/)0+***,*14)-55-7(-624.))/.;17/)),(,(((/6)676((/,=2)63,4<(,-343(.))5<6))66:).2(-.:(33,,(-.-1(((..4<A)))))))))((((,.4))),).))),-3,()((,).\n",
      "\n",
      "==> SRR3593623_1.fastq <==\n",
      "@SRR3593623.1 1 length=300\n",
      "TACGGAGGGAGCTAGCGTTGTTCGGAATTACTGGGCGTAAAGCGCACGTAGGCGGCTTTGTCAGTTAGAGGTGAAAGCCTTGAGCTCACCTCCAGAATTGCCTTTAAGACTGCATCTCTTGAATCCAGGAGAGGTGAGTGGAATTCCTAGTGTAGAGGTGAAATTCGTAGATATTCGGATGAACACCAGTGGCGAAGGCGGCTCACTGGACTGTTATTGACGCTGCGGTGCGAAAGCTTGGGGAGCAACCAGGATTAGATACCCTGGTAGTCCACGCCGTAACCGATGATAACTAGCTGT\n",
      "+SRR3593623.1 1 length=300\n",
      "C@CCCGGGGGGGGGGGGGGDFFG7@;,CE<;FC<8C@C@,CFC77+8@C:E@6@:+8=C,C,,<CC,,,,6C,,CE,,:C,,,:@E=C,CC==,9,,<<,<?EFA,,,<:F,,,:A,9E@,,5A@,,5,++,8:A+,,98+A,CB>=,,9CA@==,,8@+,,,@=D+@A?6@,ECC,,++53,:,@F*4@3,;55*>*9>):::,4B8,*22/+314<11<*(6*)/):)421*72:*15)3(413*0*)(0(,8=>?2.0<<<?*/...49@*8(4,(42:549(3,).)).6).(46:\n",
      "\n",
      "==> SRR3593623_2.fastq <==\n",
      "@SRR3593623.1 1 length=300\n",
      "TTTACTCTTGCGTCCGTACTCCCCAGGCGGTTCTCTTCTTGCGTTAGCTTCGCCCCCACACTTCTTTCCACCCTCTCCCCTCTTTTTCATCCTTTTCCCCCTTTACTTCCCCCTTACCTCATCCTCTTTTCTCCCCCCTCTTTCGCTCCTCCTCTTCATTTCCTCTCCCGTTATCCTCCTTCGCCTCTCTTCTTCTTCCGAATATCTACCTATTTCACCTCTACCCCCGTAATTCCACTCTCCTCTCCCGCCTTCAAGCTCTGCACTCTTACATGCACTTCTGCATTTCAGCCCCATCCT\n",
      "+SRR3593623.1 1 length=300\n",
      "8@6--6CFC;E++7@+C6BF@EEEB,,98+++,,;EE,,;,66>B,,EF<@+,6,8+++,,,5C<,,,,,69,,,,:,,,4,,99,99,4,,9?@,9,,,+4,,,4,,9A,,++,*,)9+*4<,4,9?;++0+368++*03=<+*0+380)*+)+42*+4+20+*5:7+*3,))10**359*15>*10)**+*1*2//*)))))*2/*/****10*/00075*9*/((,0((//)6)743)),.6631((((-()))))))-)))(.(-5-)))),)-4))-))))..)))-(-(((((,\n",
      "\n",
      "==> SRR3593625_1.fastq <==\n",
      "@SRR3593625.1 1 length=300\n",
      "TACGTAGGGTCCAAGCGTTAATCGGAATTACTGGGCGTACAGCGTTCGCAGGCGGTTTTTCAAGTCCGATGTGAAATCCCCTTGCTTAACTTTGGTATTGCTTTTGTTACTGCTCGTCTTGAGTTTGTCAGAGGTGGCTAGAATTCCTCGTGTAGCAGTGAAATGCGTAGTGATGTGGTGGAATACCGTTGGCGAAGGCAGCCCCCTGGGATAACACTGACGCTCATGCACGAAAGCTTGGGGAGCAACCAGGTTTAGTTACCCTGGTAGTCCTCGCCCTAAACGATGTCAACTAGTTGT\n",
      "+SRR3593625.1 1 length=300\n",
      "BBCCCGGGGGFGFGGGGGG>,<FDGC7DAC6ECEFC@F@+@FCC@,88+88@+86@@,9,,,69,:66+88E,,69<C666,,:@F<:,CCC,,,,,9<55,9A,,:,55C,,,9++6A+,,,C,:,B,4,,:+,++,8,,C,C?4@,7@F:@=,7,7C8,5,@,@+6=C+,,7,7,6,+3+,3,:>:+@*,9:***13,3*1*1;C***)0,,4,,868>*(67)C+1*7(,*):3*2):0((.4*2*0(04)5756)4+<<06**.46.6=*639((4.,+5((2(.))).62)64)6\n",
      "\n",
      "==> SRR3593625_2.fastq <==\n",
      "@SRR3593625.1 1 length=300\n",
      "TTTACTCTTGCGACCGTACTCCCCAGGCGGTCTACTTCTCGCGTTAGCTTCGTTACTACCCTCTTTCCTCCCCCACACCTACTTTTCATCCTTTTTGGCGTTGACTACCCCTCTCTCTATTCCTCTTTTCTCCCCACTCTTTCGTCCATGACCGTCACTTTTATCCCACCTCGCTCCCTTCTCCATCTGTATTCCTCCTCATCTCTACGCCTTTCTCTGCTACACCTCGTATTCTACCCCCCTCTGCCCCCCTCTACCCCTTCTGTCTCCAATTCAACTCCCTAGTTATCCTCCTCGCTT\n",
      "+SRR3593625.1 1 length=300\n",
      "8B<--6CDDCE@+7@+B6BF@E@C,,,68+86,,CFFF,6,84>C,4EF,C496,@6,,,,,,,6,,,,66?:++7,,89,,59,,5,4,,59C,,++,48+++:9,,9,+++9,543,+2,47,5>?,33;+9@,=+5=+?++3*1)2+**6):9+)6+62*+303++**,)0*)1))1)*:6*1:**3*2;****-)76/8AE76;)/(0(4**1**0088*5(-(()((./.)173(.3(63)))(,((,-,))6((,(()).))--)(-))))).)),()(.)))-.).,((((,(\n",
      "\n",
      "==> SRR3593627_1.fastq <==\n",
      "@SRR3593627.1 1 length=300\n",
      "TACGTAGGATGCAAGCGTTGTCCGGATTTATTGGGCGTAAAGAGTTCGTAGGTGGTTTGTTAAGTTTGGTGTTAAAGATTGGGGCTCAACCCTGATACTGCTCTTAATACTGTCAGACTCGAGTGTGGTAGAGGCTAGTGGAATTCCCAGTGTAGCGGTGAATTGCGTAGTTATTGGGATGATCACCGGTGGCGTAGGCGACTTCCTGGGCCATTACTGACACTGAGGAACGAAAGCCAGGGGAGCGAATGGGATTAGATACCCCTGTAGTCCTGGCCGTAAACGTTGTCTACTAGTCGT\n",
      "+SRR3593627.1 1 length=300\n",
      "CCCCCGGGDGGGFGFFGGGDCCFEG@@FE<CFECEC@F+,6C,;<CC@B,CCCCCBCC,:C9,EE9C<,:CFE,CC,,:9,,,@CG<CCFC==,,,,6<,6,,<,,,<<5C,,5,,,9A,4,+C+<57A;,,,=+4,,9,,C,CA>>5,,8,C@=;>:C775,@==7@6C+@,@=,,3,,6,,:,:>8+@<+;@3**5***4;*,4=;,*/4*4,,,9+14<0>**2**055@752(0);.((2(3=*/).92(4??2.62<<0)*1.).65=@).3<(4(-/66(41,).).6).))-4\n",
      "\n",
      "==> SRR3593627_2.fastq <==\n",
      "@SRR3593627.1 1 length=300\n",
      "TTCAACCTTGCGCCCGTACTACTCAGGCGGGATACTTATCGCGTTAGCTGCGTCACATCACTGTTCGATACCCCATACGCCTAGTATCCATCGTTTACCGCCAGCACTACTGCGGTATCTAATCCCTTTCGCTCCCCTCGCTTTCGTTCCTCCGTGTCAGTTATGCCCCAGCTCCTCGCCTACGCCACCTTTGTTCTTCCCCATATCTACGCATTTCACCGCTACACTGGGATTTCCACTAGCCTCTACCCCCCTCGATTCTGCCCGTTTCCAGTTCAGTTTCAGGTTTGACCCCCAATC\n",
      "+SRR3593627.1 1 length=300\n",
      "@C@8-;CFFFFC+6@:F@FGAF9E?66C@+++8,BFGC@698BEE7AEE,C+,6,8,9C,,,,,95,,6,86C,,4,:,,8?,,:,594,9,+:A<+A,++6+++,94,A,,,++3+3>3+,47=5,:=+0::DBDC8*+*=9900418ACB+0:*40++51*+**3;?**10)*00)-7>(7256(-50)+*109/96;3((6(1?557(,(247C37;22(49).)))(((..:<)44().44:72:)(((-,((((.64-5)((-(.)6)-.)6))..--))).,-(-).3,,((.(\n",
      "\n",
      "==> SRR3593628_1.fastq <==\n",
      "@SRR3593628.1 1 length=300\n",
      "TACGTAGGATGCAAGCGTTGTCCGGATTTATTGGGCGTAAAGCGTTCGTAGGTGGTTTTTTAAGTTTGGTGTTAAATCTTTTGGCTCAACCCTGAAACTGCTCTTAATACTGTCTGACTCGAGTGTGGTAGAGGCTATTGGATTTCCCAGTGTAGCGGTGAAATGCGTAGTTATTGGGAAGATCACCGGTGGCGTAGGCGACTTCCTGGGCCTTTACTGACACTGAGGAACGAAAGCCTGGGGAGCGAATCGGATTAGATACCCCTGTAGTCCTGGCCTTACACGTTGGCTACTAGTCGT\n",
      "+SRR3593628.1 1 length=300\n",
      "-CCCCGGGFGGGFGGGGGG>BCFCC,6CE;<FEFC@6C6,CC,888668,:CC,CBCC,:@,,CC9C,,:CFF66,,,<9,,,8@F5:,C9,6,,,,,9,5,,<,,,955C,,9,,,4:44,+:+<,+9,,,98+4,,9,,9,:A4=7,7A:C@,;++B++,,@9=36+@+@,@=,,,,,+@,,,:>++@339@3*5*9**11*,3=,,**/*4,519+4<,0>*9***)/6(1)438).)2(1(:**9.(0(-8@28)6+3<+.**.6).6=/..36)4),<.8(4(((341:)5))(4\n",
      "\n",
      "==> SRR3593628_2.fastq <==\n",
      "@SRR3593628.1 1 length=300\n",
      "TTCAACCTTGCGCCCGTACTACTCAGGCGGGATACTTATCGCGTTAGCTTCGCCACTTCACTTGTCTATACCCGATACCCCTAGTATCCATCGTTTACCGCCAGGACTACTGCGGTATCTACTCCCTTTCGCTCCCCTGTCTTTCGTTCCTCAGTGTCAGTTATCGCCCAGCTACTCGCCTTCCCCACCTTTGTTCTTCCCTATATCTACGCATTTCACCTCTACCCTGGGAATTCCACTTCCCTCTTCCACACTCGAGTCTGCCAGTTTCCCGTGCACTTTCAGGTTTCACCCCCACTC\n",
      "+SRR3593628.1 1 length=300\n",
      "AC---;CFFFFC+6@@FCEG,C,B9;66@:++8,BFFDA;9@CEG?6ED,C+,646,6:,,,,,:5,,9,<<6++68>,9:A,,:,5@=,9,+:A<+9,448++++99,85,,++34:><+,47@,,:@3*::FEFEC*+5=CD;5681AEA+0<+5;++53*;*)8;C**4)**00)/7<):)09)(/()4*17CC?5>=*.0*9@C6701(.,9C))7.2)76)/)()(((//7?)))))-44?2)65>4(4<?:((.4).53)).)-).)-((,().,-.)))).)).).((-((,,\n",
      "\n",
      "==> SRR3593631_1.fastq <==\n",
      "@SRR3593631.1 1 length=300\n",
      "TACGGAGGGAGCTAGCGTTGTTCGGAATTACTGGGCGTAAAGCGCCCGTAGGCGGCTTTTTAAGTCTGGTGTGACATCCCTGGGCTCAACCCCGGTACTGCCCTTGATACTGTCTATCTTGATTCTTGTAGTGGCGATTGGAATTCCTAGTGTAGAGGTGAAATTCGTAGTTATTCGGAAGATCACCAGTGGCGAAGGCGACTCCCTGGACCTGTCTTGCCGCTGAGGTTCGACAGCTTGGGGAGCCACCCGGTTTAGTTACCCTGTTAGTCCTCGCCGTACACGTTGTTACCTATCTTT\n",
      "+SRR3593631.1 1 length=300\n",
      "B@CCC@FGD7CFEFGFGGG>C@F@B@,CCC6EC@C@8C+,,CC@6+77@68@,+8+8=CCE,,:CC,,,,9C,9,<95,4,,,4@E=,:F44+++++4<,5,,:=,,,,5C,,,,,,8C,,,,<7@@,,,7,,,++++83,3,:>=@,,3C,@3,,,5@+,8,7>;35;@+7,@<=,,***,,3,8>,,67,34***/8*)*4*+2;:**.***5+49+/0*(4))/*2)4(.*.,1)1)04(-(3*+0.(04(45.:).+3<+1**.5).<?*.,22(-4(*64(4((.))-.).).)6\n",
      "\n",
      "==> SRR3593631_2.fastq <==\n",
      "@SRR3593631.1 1 length=300\n",
      "TTTACTCTTGCGACCGTACTCCCCCGGCGGTTCACTTATTGCGTTAGCTTCGCCACCCCCCTTCTTTCCACCCCGCCCCCTTTTTATCCTCTTTTTCCCCCTTTCCTTCCCCCGTTTCTTATCCTCTTTTCTCCCCACGCTTTCGCTCCCTCTCTTCCTTTCTTTTCCCGCTATTCTCCTTCGCCCCTCTTTTTCTTCCCACTTTCTCCCCCTTTCCCCTCTTCACTCGGACTTCCCCTCCCCCCCCCCTCATTCCCGCTTCCCCCTTTCCACCTCCCTTCCCGCTTTTCCCCCCTCTCT\n",
      "+SRR3593631.1 1 length=300\n",
      "@B@--6CEDCE@+6@+B,BF@F@E+++77++6,,:FF,,6966>C7,EE,9+,6,@6=+++449C,5,,,59=+++7+++4,,95,59,7,,78?,@,,,+4,,,37,9=,,+++*,),++3573,7::+2049>C,0*+033+*0*11*)**0*3+*+4+4/2*1:2**)*((+1*05.>*((5)3,(()+/.(...)()(/))).)/(((,0..))4((,).).).()((,.).(.(,(-,(-,((((((.))))-,-,,,(((-.)))))((.(,(..((((,-())))32(((((,\n",
      "\n",
      "==> SRR3593632_1.fastq <==\n",
      "@SRR3593632.1 1 length=300\n",
      "TACGTAGGATGCAAGCGTTGTCCGGATTTATTGGGCGTAAAGAGTTCGTAGGTGGTTTGTTAAGTTTGGTGTTAAAGATTGGGGCTCAACCCTGATACTGCACTGAATACTGGCAGACTCGAGTGTGGTAGAGGCTAGTGGAATTCCCAGTGTAGCGGTGAAATGCGTAGATATTGGGAAGAACACCGGTGGCGTAGGCGACTAGCTGGGCCATAACTGACACTGAGGAACGAAAGCCAGGGGAGCGAATGGGATTAGATACCCCAGTAGTCCTGGCCGTAAACGATGGATACTAGGCGT\n",
      "+SRR3593632.1 1 length=300\n",
      "-ACCCFGGFFFGGGFFEFGEFEGGGFEGEFCFGGGGGGGGFFCGEE@FCCFGEGGFED,CECCFG<CFCFGGGGGGF,6C6,CCEG<CFG<8C<?,,6C@9,,C,:,?C,FE,,4?,9A=D<FF+BFFFFGFGG:9=,CFFG9FE=>5,EFGEEEDFGGGFF,@,=E@CE+@=DA,BEE,AF,@@FGG6EEEDE:@FEG8C9;*,0BFF*04*=,>8C@BF60509FC*):??EFFF)08>?66(./:>5:FF??FFF2AGDC8585>44:<FFB:::2906CA:6<8?(.6:AA2029<\n",
      "\n",
      "==> SRR3593632_2.fastq <==\n",
      "@SRR3593632.1 1 length=300\n",
      "TTCAACCTTGCGGCCGTACTTCTCAGGCGGTATACTTATTGCGTTAGCTGCGCCACTCCACCTTTCGATCCCCCACACCCCTTGTTCCCATCTTTTACCGCCCGGACTACTGCGGTATCTAACCCCTTTCGCTCCCCTCGCTTTCGTTCCTCCCTGTCTTTTTTCCCCCAGCTCCCCCCTTTCGCCTCCTGTTTTCTTCCCTCTATCTCCGTTTTTCCCCTCTACCCGGTGATTTCCTCTCCCCTCTCCCACACTCGATTCTGCCATTTTACAGTCCTTTTTCGTTGTTCACCCCCCATC\n",
      "+SRR3593632.1 1 length=300\n",
      "AC6A-,=CDFFF+7F:CFGG,E,CFC<68@++6,CFF@6,;,>BE7@EF,67+,+8,,:,,,,,6,,,,,,96+++,6,4+,,,5,,4,,44,<A,9:,+++++++8+49,,,+83+8>2+,+38++8@=*1*;==A8*+*6*3304)1;C=+)5*3)++5+*3)*3*?45,))*)))-(-)1((/((,()2)1()).)/()(/)16.5)(()0((()/8(-().)((()(().--6).-((,((-3(,,41((81(.()))))).))--)..4.).))).).-.((-(--.-4(((4,.\n",
      "\n",
      "==> SRR3593664_1.fastq <==\n",
      "@SRR3593664.1 1 length=300\n",
      "TACGTAGGATGCAAGCGTTGTCCGGATTTATTGGGCGTAAAGCGTTCGTAGGTGGTTTTTTAAGTTTGGTGTTAAATCTTCCGGCTCCACCCTGATACTGCTCTTAATACTGTCAGACTCGAGTGTGGTAGAGGCTATTGGATTTCCCAGTGTAGCGGTGAATTGCGTAGTTTTTTGGATTATCCCCGTTGGCGTAGGCGACTTTCTGGTCCTTTACTGACACTGAGGAACGAAAGCCTGGGTAGCGAATCGGATTAGTTCCCCCTTTAGTCCTGGCCGTACACGATGGTTCCTAGTCGT\n",
      "+SRR3593664.1 1 length=300\n",
      "CCCCCGGG?FFGCGGGGGG7C@FCF86CC,<ECCEC@F@,,C,88686@,::;,98C@,9@,,:<6@,,::EF<@9,,99,,,8@F4,6C94=,,,,5<,9,,<,,,9<9C,,5,,,9A4+,+C+<,+995,,,+,,,9,,5,:A447,,8,8@,4++@++5,@,@3@+@+@,@=+++,,4>,7,:@**6*,3**1**3**14*,4=,,,10,4,419+4>908*20**)/61*573)).2((/,3/*)0(03(4;<<).+3<:)**.-).6@6)(36(-3(*.4(3-()-),.:))-,4\n",
      "\n",
      "==> SRR3593664_2.fastq <==\n",
      "@SRR3593664.1 1 length=300\n",
      "TTCAACCTTGCGCCCGTACTACTCAGGCGGTATACTTATCGCGTTAGCTTCGCCACTTCCCCCTTCTATACCCCATACCCCTTGTATCCTTCTTTTACCGCCTGCACTACTGCGGTATCTATTCCCTTTCGCTCCCCTCGCTTTCGTTCCTCAGTGTCTTTTCTTCCCCCGCTCCTCTCCTTCGCCTCCTGTTTTATTCCCAATATCTTCGCTTTTCCCCGCTACACTTGGTTTTCCTCTCGCCTCTACCACCCTCGATTCTCCCATTTTCCAGTGCAGTTTCAGTTTTTCTCCCCCCTT\n",
      "+SRR3593664.1 1 length=300\n",
      "@B6--6CFECEF+,@+@+BF9F,EF;6C8+++:5EFG<@,:6@CE76ED,C+,6,?,,:,,,++64,,6,669,,6,9,,:?,,:,,44,9,,<:9,A,,+4++,,94,9,,,++3+3>++,444,,9=338:?C=C8*+*60=0*151@DD+)5+60++21*2**5=D**+))*03*308*:)85))/))5*10/1/*/7*(7)98**1/((055@*.5(4..2)6.)+))(,/)7))1((,4,4()6)).(--((((.)))..()-).)))...6)))--))))-))(,)66,((-,(\n",
      "\n",
      "==> SRR3593665_1.fastq <==\n",
      "@SRR3593665.1 1 length=300\n",
      "TACGGAGGGAGCTAGCGTTGTTCGGAATTACTGGGCGTAAAGCGCACGTAGGCGGCTTTGTAAGTTAGAGGTGAAAGCCTGGAGCTCAACTCCAGAATTGCCTTTAAGACTGCATCGCTTGAATCCAGGAGAGGTGAGTGGAATTCCGAGTGTAGAGGTGAAATTCGTAGATATTCGGAAGAACACCAGTGGCGAAGGCGGCTCACTGGACTGGTATTGACGCTGAGGTGCGAAAGCGTGGGGAGCAAACAGGATTAGATACCCTGGTAGTCCACGCCGTAAACGATGATAACTAGCTGT\n",
      "+SRR3593665.1 1 length=300\n",
      "CCCCCGGGGGGGGGGGGGGGGGGGGGDFFFEGGGGFGGFFFGEF@@@@FFGGCCG7CCC,C<<FFF,C9,CFFGEF9CAE,,=FFGCFFGDFD8=,,<?=AAEFE9,,C?F@@9EE+@FD@8=FD?EF,+?<FFF798CDFGFFGFF,+8@@EFC9EGFC:8,ECF@DFG>DFGGEDC85;D7@>FC>5DFGGGGDDGF5CCED+;CFC*2=55>;=CFCGE1?DBF:D3?B:5<9?)8>>B0<>;CC>;6F?<BF7>95+3<8F6D84<<>F4>?9:69??:6?9:365)6<A<7(64<\n",
      "\n",
      "==> SRR3593665_2.fastq <==\n",
      "@SRR3593665.1 1 length=300\n",
      "TTTAATCTTGCGACCGTACTCCCCAGGCGGATAACTTAATGCGTTAGCTTCGCCACCAAAGTTCTGTGAACCCTGACAGCTAGTTATCATCGTTTTCGGCGTGGACTACCAGGGTATCTTATCCTGTTTGCTCCCCACGCTTTCGCACCCCAGCGTCAATACCAGTCCAGTTATCCGCCTTCGCCACTCTTGTTCTTCCGAATATCTACGAATTTCACCTCTACACTCGGAATTCCACCCACCTCTCCTGGATTCATGCGATCCAGTCTTAAAGGCAATTCTGGATTTTAGCTCCATGCT\n",
      "+SRR3593665.1 1 length=300\n",
      "CCCC-CFFFFFGC@CCFFGGDFEEEFDCCC7@,5FFG<,<E<EEGFEGF,C@78,?8<,,,9AEE,<9,,:C?,4,:,,95,,CA,:@,@;,AED,9++4+8+++4,,AB,,+?439:C++7===,@EE?79??@EF8*60@F+*:+15*)*+05::)+;+3)+)3:?7*?,;*4;5):=<349A*:.)*/*18**976(---/*/*5@((((27796@3273>)67@3)(233)9)7(/(462,),46.(())<<)))((-(-))..642<))),((.)...)).)4))(.).4().()\n",
      "SRR3593621_1.fastq:52945\n",
      "SRR3593621_2.fastq:52945\n",
      "SRR3593622_1.fastq:62218\n",
      "SRR3593622_2.fastq:62218\n",
      "SRR3593623_1.fastq:92740\n",
      "SRR3593623_2.fastq:92740\n",
      "SRR3593625_1.fastq:70366\n",
      "SRR3593625_2.fastq:70366\n",
      "SRR3593627_1.fastq:100615\n",
      "SRR3593627_2.fastq:100615\n",
      "SRR3593628_1.fastq:78495\n",
      "SRR3593628_2.fastq:78495\n",
      "SRR3593631_1.fastq:97332\n",
      "SRR3593631_2.fastq:97332\n",
      "SRR3593632_1.fastq:84361\n",
      "SRR3593632_2.fastq:84361\n",
      "SRR3593664_1.fastq:101827\n",
      "SRR3593664_2.fastq:101827\n",
      "SRR3593665_1.fastq:84850\n",
      "SRR3593665_2.fastq:84850\n"
     ]
    }
   ],
   "source": [
    "%%bash -s \"$FILE_ID\" \"$FASTQ_STR\"\n",
    "ssh microbioinf@192.168.56.101 env FILE_ID=$1 FASTQ_STR=$2 /bin/bash <<\"EOT\"\n",
    "export PATH=$PATH:/home/microbioinf/miniconda3/bin\n",
    "cd Documentos/Tema_2/fastq\n",
    "head -4 ${FILE_ID}*fastq\n",
    "grep -c $FASTQ_STR ${FILE_ID}*fastq\n",
    "EOT"
   ]
  },
  {
   "cell_type": "code",
   "execution_count": 104,
   "metadata": {},
   "outputs": [
    {
     "name": "stdout",
     "output_type": "stream",
     "text": [
      "Imported samplemanifest as PairedEndFastqManifestPhred33 to paired-end-demux.qza\n"
     ]
    }
   ],
   "source": [
    "%%bash\n",
    "ssh microbioinf@192.168.56.101 /bin/bash <<\"EOT\"\n",
    "export PATH=$PATH:/home/microbioinf/miniconda3/bin\n",
    "source activate qiime2-2018.11\n",
    "cd Documentos/Tema_2\n",
    "qiime tools import --type 'SampleData[PairedEndSequencesWithQuality]' \\\n",
    "                   --input-path samplemanifest \\\n",
    "                   --output-path paired-end-demux.qza \\\n",
    "                   --input-format PairedEndFastqManifestPhred33\n",
    "EOT"
   ]
  },
  {
   "cell_type": "code",
   "execution_count": 105,
   "metadata": {},
   "outputs": [
    {
     "name": "stdout",
     "output_type": "stream",
     "text": [
      "Saved Visualization to: paired-end-demux.qzv\n"
     ]
    }
   ],
   "source": [
    "%%bash\n",
    "ssh microbioinf@192.168.56.101 /bin/bash <<\"EOT\"\n",
    "export PATH=$PATH:/home/microbioinf/miniconda3/bin\n",
    "source activate qiime2-2018.11\n",
    "cd Documentos/Tema_2\n",
    "qiime demux summarize --i-data paired-end-demux.qza --o-visualization paired-end-demux.qzv\n",
    "EOT"
   ]
  },
  {
   "cell_type": "markdown",
   "metadata": {},
   "source": [
    "### Determination of ASV using Deblur"
   ]
  },
  {
   "cell_type": "markdown",
   "metadata": {},
   "source": [
    "#### Sample pre-processing"
   ]
  },
  {
   "cell_type": "code",
   "execution_count": 106,
   "metadata": {},
   "outputs": [
    {
     "name": "stdout",
     "output_type": "stream",
     "text": [
      "Saved SampleData[JoinedSequencesWithQuality] to: joined-reads.qza\n",
      "Saved Visualization to: joined-reads.qzv\n",
      "Saved SampleData[JoinedSequencesWithQuality] to: joined-filt-reads.qza\n",
      "Saved QualityFilterStats to: filt_stats.qza\n",
      "Saved Visualization to: joined-filt-reads.qzv\n"
     ]
    }
   ],
   "source": [
    "%%bash\n",
    "ssh microbioinf@192.168.56.101 /bin/bash <<\"EOT\"\n",
    "export PATH=$PATH:/home/microbioinf/miniconda3/bin\n",
    "source activate qiime2-2018.11\n",
    "cd Documentos/Tema_2\n",
    "\n",
    "# Deblur does not currently support unpaired paired-end readings, \n",
    "#so we have to use the VSEARCH algorithm to merge the readings:\n",
    "qiime vsearch join-pairs --i-demultiplexed-seqs paired-end-demux.qza \\\n",
    "                         --o-joined-sequences joined-reads.qza\n",
    "qiime demux summarize --i-data joined-reads.qza --o-visualization joined-reads.qzv\n",
    "\n",
    "# Filtering of the readings according to their quality.\n",
    "qiime quality-filter q-score-joined --i-demux joined-reads.qza \\\n",
    "                                    --o-filter-stats filt_stats.qza \\\n",
    "                                    --o-filtered-sequences joined-filt-reads.qza\n",
    "\n",
    "qiime demux summarize --i-data joined-filt-reads.qza --o-visualization joined-filt-reads.qzv\n",
    "\n",
    "EOT"
   ]
  },
  {
   "cell_type": "markdown",
   "metadata": {},
   "source": [
    "#### Determination of ASV/features"
   ]
  },
  {
   "cell_type": "code",
   "execution_count": 107,
   "metadata": {},
   "outputs": [
    {
     "name": "stdout",
     "output_type": "stream",
     "text": [
      "Saved FeatureTable[Frequency] to: deblur_output/table.qza\n",
      "Saved FeatureData[Sequence] to: deblur_output/representative_sequences.qza\n",
      "Saved DeblurStats to: deblur_output/stats.qza\n",
      "Saved Visualization to: deblur_output/deblur_table_summary.qzv\n"
     ]
    }
   ],
   "source": [
    "%%bash \n",
    "ssh microbioinf@192.168.56.101 /bin/bash <<\"EOT\"\n",
    "export PATH=$PATH:/home/microbioinf/miniconda3/bin\n",
    "source activate qiime2-2018.11\n",
    "cd Documentos/Tema_2\n",
    "\n",
    "rm -rf deblur_output\n",
    "qiime deblur denoise-16S --i-demultiplexed-seqs joined-filt-reads.qza \\\n",
    "                         --p-trim-length 372 \\\n",
    "                         --p-sample-stats \\\n",
    "                         --p-jobs-to-start 2 \\\n",
    "                         --p-min-reads 1 \\\n",
    "                         --output-dir deblur_output\n",
    "\n",
    "qiime feature-table summarize --i-table deblur_output/table.qza --o-visualization deblur_output/deblur_table_summary.qzv\n",
    "\n",
    "\n",
    "EOT"
   ]
  },
  {
   "cell_type": "code",
   "execution_count": 108,
   "metadata": {},
   "outputs": [
    {
     "name": "stdout",
     "output_type": "stream",
     "text": [
      "Saved FeatureTable[Frequency] to: deblur_output/deblur_table_filt.qza\n",
      "Saved FeatureData[Sequence] to: deblur_output/rep_seqs_filt.qza\n",
      "Saved Visualization to: deblur_output/deblur_table_filt_summary.qzv\n"
     ]
    }
   ],
   "source": [
    "%%bash\n",
    "ssh microbioinf@192.168.56.101 /bin/bash <<\"EOT\"\n",
    "export PATH=$PATH:/home/microbioinf/miniconda3/bin\n",
    "source activate qiime2-2018.11\n",
    "cd Documentos/Tema_2\n",
    "\n",
    "# Exclude sOTUS that have a frequency below 0.1% of the mean depth. \n",
    "# This threshold would exclude those sOTUs that are due to Illumina sequencing errors (0.1% of total reads).\n",
    "\n",
    "qiime feature-table filter-features --i-table deblur_output/table.qza \\\n",
    "                                    --p-min-frequency 30 \\\n",
    "                                    --p-min-samples 1 \\\n",
    "                                    --o-filtered-table deblur_output/deblur_table_filt.qza\n",
    "\n",
    "# Exclude low frequency sOTUS\n",
    "qiime feature-table filter-seqs --i-data deblur_output/representative_sequences.qza \\\n",
    "                                --i-table deblur_output/deblur_table_filt.qza \\\n",
    "                                --o-filtered-data deblur_output/rep_seqs_filt.qza\n",
    "\n",
    "\n",
    "# Summarize\n",
    "qiime feature-table summarize --i-table deblur_output/deblur_table_filt.qza --o-visualization deblur_output/deblur_table_filt_summary.qzv\n",
    "\n",
    "EOT"
   ]
  },
  {
   "cell_type": "markdown",
   "metadata": {},
   "source": [
    "### Phylogenetic distances determination using FastTree"
   ]
  },
  {
   "cell_type": "code",
   "execution_count": 112,
   "metadata": {},
   "outputs": [
    {
     "name": "stdout",
     "output_type": "stream",
     "text": [
      "Saved FeatureData[AlignedSequence] to: tree_out/rep_seqs_filt_aligned.qza\n",
      "Saved FeatureData[AlignedSequence] to: tree_out/rep_seqs_filt_aligned_masked.qza\n",
      "Saved Phylogeny[Unrooted] to: tree_out/rep_seqs_filt_aligned_masked_tree.qza\n",
      "Saved Phylogeny[Rooted] to: tree_out/rep_seqs_filt_aligned_masked_tree_rooted.qza\n"
     ]
    }
   ],
   "source": [
    "%%bash\n",
    "ssh microbioinf@192.168.56.101 /bin/bash <<\"EOT\"\n",
    "export PATH=$PATH:/home/microbioinf/miniconda3/bin\n",
    "source activate qiime2-2018.11\n",
    "cd Documentos/Tema_2\n",
    "rm -rf tree_out\n",
    "mkdir tree_out\n",
    "#Sequence alignment\n",
    "qiime alignment mafft --i-sequences deblur_output/rep_seqs_filt.qza \\\n",
    "                      --p-n-threads 3 \\\n",
    "                      --o-alignment tree_out/rep_seqs_filt_aligned.qza\n",
    "\n",
    "#Mask hypervariable regions\n",
    "qiime alignment mask --i-alignment tree_out/rep_seqs_filt_aligned.qza \\\n",
    "                     --o-masked-alignment tree_out/rep_seqs_filt_aligned_masked.qza\n",
    "\n",
    "#Calculate phylogenie\n",
    "\n",
    "qiime phylogeny fasttree --i-alignment tree_out/rep_seqs_filt_aligned_masked.qza \\\n",
    "                         --p-n-threads 2 \\\n",
    "                         --o-tree tree_out/rep_seqs_filt_aligned_masked_tree\n",
    "\n",
    "#Root the tree\n",
    "\n",
    "qiime phylogeny midpoint-root --i-tree tree_out/rep_seqs_filt_aligned_masked_tree.qza \\\n",
    "                              --o-rooted-tree tree_out/rep_seqs_filt_aligned_masked_tree_rooted.qza\n",
    "                     \n",
    "EOT"
   ]
  },
  {
   "cell_type": "markdown",
   "metadata": {},
   "source": [
    "### Taxonomic assignment"
   ]
  },
  {
   "cell_type": "markdown",
   "metadata": {},
   "source": [
    "#### Assignment database training"
   ]
  },
  {
   "cell_type": "code",
   "execution_count": 113,
   "metadata": {},
   "outputs": [
    {
     "name": "stdout",
     "output_type": "stream",
     "text": [
      "Imported 85_otus.fasta as DNASequencesDirectoryFormat to 85_otus.qza\n",
      "Imported 85_otu_taxonomy.txt as HeaderlessTSVTaxonomyFormat to ref-taxonomy.qza\n"
     ]
    }
   ],
   "source": [
    "%%bash\n",
    "ssh microbioinf@192.168.56.101 /bin/bash <<\"EOT\"\n",
    "export PATH=$PATH:/home/microbioinf/miniconda3/bin\n",
    "source activate qiime2-2018.11\n",
    "cd Documentos/Tema_2\n",
    "\n",
    "#Import reference sequences\n",
    "qiime tools import \\\n",
    "  --type 'FeatureData[Sequence]' \\\n",
    "  --input-path 85_otus.fasta \\\n",
    "  --output-path 85_otus.qza\n",
    "\n",
    "#Import reference taxonomy\n",
    "qiime tools import \\\n",
    "  --type 'FeatureData[Taxonomy]' \\\n",
    "  --input-format HeaderlessTSVTaxonomyFormat \\\n",
    "  --input-path 85_otu_taxonomy.txt \\\n",
    "  --output-path ref-taxonomy.qza\n",
    "  \n",
    "EOT"
   ]
  },
  {
   "cell_type": "code",
   "execution_count": 115,
   "metadata": {},
   "outputs": [
    {
     "name": "stdout",
     "output_type": "stream",
     "text": [
      "Saved FeatureData[Sequence] to: ref-seqs.qza\n",
      "Saved TaxonomicClassifier to: classifier.qza\n"
     ]
    }
   ],
   "source": [
    "%%bash\n",
    "ssh microbioinf@192.168.56.101 /bin/bash <<\"EOT\"\n",
    "export PATH=$PATH:/home/microbioinf/miniconda3/bin\n",
    "source activate qiime2-2018.11\n",
    "cd Documentos/Tema_2\n",
    "\n",
    "#Trim reference sequences to the region intra-primers according to primers.txt\n",
    "qiime feature-classifier extract-reads \\\n",
    "  --i-sequences 85_otus.qza \\\n",
    "  --p-f-primer GTGCCAGCMGCCGCGGTAA \\\n",
    "  --p-r-primer CCGTCAATTCMTTTRAGTTT \\\n",
    "  --p-min-length 100 \\\n",
    "  --p-max-length 400 \\\n",
    "  --o-reads ref-seqs.qza\n",
    "\n",
    "#Generate classifier naive-bayes\n",
    "qiime feature-classifier fit-classifier-naive-bayes \\\n",
    "  --i-reference-reads ref-seqs.qza \\\n",
    "  --i-reference-taxonomy ref-taxonomy.qza \\\n",
    "  --o-classifier classifier.qza\n",
    "  \n",
    "EOT"
   ]
  },
  {
   "cell_type": "markdown",
   "metadata": {},
   "source": [
    "#### Taxonomic assignment of representative sequences"
   ]
  },
  {
   "cell_type": "code",
   "execution_count": 116,
   "metadata": {},
   "outputs": [
    {
     "name": "stdout",
     "output_type": "stream",
     "text": [
      "Saved FeatureData[Taxonomy] to: taxa/classification.qza\n",
      "Exported taxa/classification.qza as TSVTaxonomyDirectoryFormat to directory taxa\n",
      "Saved Visualization to: taxa/taxa_barplot.qzv\n"
     ]
    }
   ],
   "source": [
    "%%bash\n",
    "ssh microbioinf@192.168.56.101 /bin/bash <<\"EOT\"\n",
    "export PATH=$PATH:/home/microbioinf/miniconda3/bin\n",
    "source activate qiime2-2018.11\n",
    "cd Documentos/Tema_2\n",
    "\n",
    "rm -rf taxa\n",
    "#Taxonomic assignment of the representative sequences of each sOTU\n",
    "qiime feature-classifier classify-sklearn --i-reads deblur_output/rep_seqs_filt.qza \\\n",
    "--i-classifier classifier.qza \\\n",
    "--p-n-jobs 2 \\\n",
    "--output-dir taxa\n",
    "\n",
    "#Export to tabular file\n",
    "qiime tools export --input-path taxa/classification.qza --output-path taxa\n",
    "\n",
    "#Obtain interactive graph to visualize the abundance in each sOTU per sample\n",
    "qiime taxa barplot --i-table deblur_output/deblur_table_filt.qza \\\n",
    "--i-taxonomy taxa/classification.qza \\\n",
    "--m-metadata-file metadata.txt \\\n",
    "--o-visualization taxa/taxa_barplot.qzv\n",
    "\n",
    "EOT"
   ]
  },
  {
   "cell_type": "markdown",
   "metadata": {},
   "source": [
    "### Diversity analysis"
   ]
  },
  {
   "cell_type": "markdown",
   "metadata": {},
   "source": [
    "#### Alpha diversity"
   ]
  },
  {
   "cell_type": "code",
   "execution_count": 118,
   "metadata": {},
   "outputs": [
    {
     "name": "stdout",
     "output_type": "stream",
     "text": [
      "Saved Visualization to: rarefaction_curves.qzv\n"
     ]
    }
   ],
   "source": [
    "%%bash\n",
    "ssh microbioinf@192.168.56.101 /bin/bash <<\"EOT\"\n",
    "export PATH=$PATH:/home/microbioinf/miniconda3/bin\n",
    "source activate qiime2-2018.11\n",
    "cd Documentos/Tema_2\n",
    "\n",
    "# Obtain rarefaction curves with max-depht = num of reads of the richest sample\n",
    "qiime diversity alpha-rarefaction --i-table deblur_output/deblur_table_filt.qza \\\n",
    "                                  --p-max-depth 41934 \\\n",
    "                                  --p-steps 20 \\\n",
    "                                  --i-phylogeny tree_out/rep_seqs_filt_aligned_masked_tree_rooted.qza \\\n",
    "                                  --m-metadata-file metadata.txt \\\n",
    "                                  --o-visualization rarefaction_curves.qzv\n",
    "                                  \n",
    "EOT"
   ]
  },
  {
   "cell_type": "markdown",
   "metadata": {},
   "source": [
    "#### Beta diversity"
   ]
  },
  {
   "cell_type": "code",
   "execution_count": 119,
   "metadata": {},
   "outputs": [
    {
     "name": "stdout",
     "output_type": "stream",
     "text": [
      "Saved FeatureTable[Frequency] to: diversity/rarefied_table.qza\n",
      "Saved SampleData[AlphaDiversity] % Properties(['phylogenetic']) to: diversity/faith_pd_vector.qza\n",
      "Saved SampleData[AlphaDiversity] to: diversity/observed_otus_vector.qza\n",
      "Saved SampleData[AlphaDiversity] to: diversity/shannon_vector.qza\n",
      "Saved SampleData[AlphaDiversity] to: diversity/evenness_vector.qza\n",
      "Saved DistanceMatrix % Properties(['phylogenetic']) to: diversity/unweighted_unifrac_distance_matrix.qza\n",
      "Saved DistanceMatrix % Properties(['phylogenetic']) to: diversity/weighted_unifrac_distance_matrix.qza\n",
      "Saved DistanceMatrix to: diversity/jaccard_distance_matrix.qza\n",
      "Saved DistanceMatrix to: diversity/bray_curtis_distance_matrix.qza\n",
      "Saved PCoAResults to: diversity/unweighted_unifrac_pcoa_results.qza\n",
      "Saved PCoAResults to: diversity/weighted_unifrac_pcoa_results.qza\n",
      "Saved PCoAResults to: diversity/jaccard_pcoa_results.qza\n",
      "Saved PCoAResults to: diversity/bray_curtis_pcoa_results.qza\n",
      "Saved Visualization to: diversity/unweighted_unifrac_emperor.qzv\n",
      "Saved Visualization to: diversity/weighted_unifrac_emperor.qzv\n",
      "Saved Visualization to: diversity/jaccard_emperor.qzv\n",
      "Saved Visualization to: diversity/bray_curtis_emperor.qzv\n"
     ]
    }
   ],
   "source": [
    "%%bash\n",
    "ssh microbioinf@192.168.56.101 /bin/bash <<\"EOT\"\n",
    "export PATH=$PATH:/home/microbioinf/miniconda3/bin\n",
    "source activate qiime2-2018.11\n",
    "cd Documentos/Tema_2\n",
    "rm -rf diversity\n",
    "# Obtain metrics curves with sampling-depth 19845 = num of reads of the poorest sample\n",
    "qiime diversity core-metrics-phylogenetic --i-table deblur_output/deblur_table_filt.qza \\\n",
    "                                          --i-phylogeny tree_out/rep_seqs_filt_aligned_masked_tree_rooted.qza \\\n",
    "                                          --p-sampling-depth 15296 \\\n",
    "                                          --m-metadata-file metadata.txt \\\n",
    "                                          --p-n-jobs 2 \\\n",
    "                                          --output-dir diversity\n",
    "\n",
    "EOT"
   ]
  },
  {
   "cell_type": "code",
   "execution_count": 120,
   "metadata": {},
   "outputs": [
    {
     "name": "stdout",
     "output_type": "stream",
     "text": [
      "Saved FeatureTable[Frequency] to: deblur_output/L3_collapse_table.qza\n",
      "Exported deblur_output/L3_collapse_table.qza as BIOMV210DirFmt to directory lefse_table/\n"
     ]
    }
   ],
   "source": [
    "%%bash\n",
    "ssh microbioinf@192.168.56.101 /bin/bash <<\"EOT\"\n",
    "export PATH=$PATH:/home/microbioinf/miniconda3/bin\n",
    "source activate qiime2-2018.11\n",
    "cd Documentos/Tema_2\n",
    "qiime taxa collapse --i-table deblur_output/deblur_table_filt.qza \\\n",
    "                    --o-collapsed-table deblur_output/L3_collapse_table.qza \\\n",
    "                    --p-level 3 \\\n",
    "                    --i-taxonomy taxa/classification.qza\n",
    "                    \n",
    "qiime tools export --input-path deblur_output/L3_collapse_table.qza \\\n",
    "                   --output-path lefse_table/\n",
    "\n",
    "biom convert -i lefse_table/feature-table.biom \\\n",
    "             -o lefse_table/feature-table.txt \\\n",
    "             --header-key “taxonomy” --to-tsv\n",
    "             \n",
    "EOT"
   ]
  },
  {
   "cell_type": "markdown",
   "metadata": {
    "latex_metadata": {
     "hidden": "true",
     "lexer": "bash"
    }
   },
   "source": [
    "# Outputs"
   ]
  },
  {
   "cell_type": "code",
   "execution_count": 128,
   "metadata": {
    "latex_metadata": {
     "hidden": "true",
     "lexer": "bash"
    }
   },
   "outputs": [],
   "source": [
    "%%bash\n",
    "jupyter nbconvert --to=latex --template=~/report.tplx environmental_population_analysis.ipynb 1>/dev/null 2>/dev/null\n",
    "/Library/TeX/texbin/pdflatex -shell-escape environmental_population_analysis 1>/dev/null 2>/dev/null\n",
    "jupyter nbconvert --to html_toc environmental_population_analysis.ipynb 1>/dev/null 2>/dev/null"
   ]
  }
 ],
 "metadata": {
  "celltoolbar": "Edit Metadata",
  "kernelspec": {
   "display_name": "Python 3",
   "language": "python",
   "name": "python3"
  },
  "language_info": {
   "codemirror_mode": {
    "name": "ipython",
    "version": 3
   },
   "file_extension": ".py",
   "mimetype": "text/x-python",
   "name": "python",
   "nbconvert_exporter": "python",
   "pygments_lexer": "ipython3",
   "version": "3.7.1"
  },
  "latex_envs": {
   "LaTeX_envs_menu_present": true,
   "autoclose": false,
   "autocomplete": true,
   "bibliofile": "biblio.bib",
   "cite_by": "apalike",
   "current_citInitial": 1,
   "eqLabelWithNumbers": true,
   "eqNumInitial": 1,
   "hotkeys": {
    "equation": "Ctrl-E",
    "itemize": "Ctrl-I"
   },
   "labels_anchors": false,
   "latex_user_defs": false,
   "report_style_numbering": false,
   "user_envs_cfg": false
  },
  "latex_metadata": {
   "author": "Fernando Freire",
   "title": "Environmental Population Analysis"
  },
  "nbTranslate": {
   "displayLangs": [
    "*"
   ],
   "hotkey": "alt-t",
   "langInMainMenu": true,
   "sourceLang": "en",
   "targetLang": "fr",
   "useGoogleTranslate": true
  },
  "toc": {
   "base_numbering": 1,
   "nav_menu": {},
   "number_sections": true,
   "sideBar": true,
   "skip_h1_title": false,
   "title_cell": "Table of Contents",
   "title_sidebar": "Contents",
   "toc_cell": false,
   "toc_position": {},
   "toc_section_display": true,
   "toc_window_display": true
  }
 },
 "nbformat": 4,
 "nbformat_minor": 2
}
