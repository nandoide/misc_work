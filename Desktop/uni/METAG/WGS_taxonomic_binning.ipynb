{
 "cells": [
  {
   "cell_type": "markdown",
   "metadata": {},
   "source": [
    "#  Whole Genome Shotgun metagenomics: Taxonomic Binning Pipeline"
   ]
  },
  {
   "cell_type": "markdown",
   "metadata": {},
   "source": [
    "We have two fastqc files to process:\n",
    "1. *Microbiome1_200k* that contains $200,000$ paired end reads from total DNA extracted from human saliva. So this is a microbiome.\n",
    "\n",
    "\n",
    "2. *Vir1_100k* that contains $100,000$ paired end reads from the same saliva sample but after purification of viral particles. So this is a virome.\n"
   ]
  },
  {
   "cell_type": "code",
   "execution_count": 105,
   "metadata": {},
   "outputs": [],
   "source": [
    "import warnings\n",
    "warnings.filterwarnings('ignore')\n",
    "import pandas as pd"
   ]
  },
  {
   "cell_type": "markdown",
   "metadata": {},
   "source": [
    "## Check files\n",
    "Check the number of reads of our files and look at the header with grep and head commands"
   ]
  },
  {
   "cell_type": "code",
   "execution_count": 152,
   "metadata": {},
   "outputs": [
    {
     "name": "stdout",
     "output_type": "stream",
     "text": [
      "==> Bact1_R1_200000.fq <==\n",
      "@M02255:131:000000000-AJC6R:1:2102:25217:13392_1:N:0:ACAGTG\n",
      "\n",
      "==> Bact1_R2_200000.fq <==\n",
      "@M02255:131:000000000-AJC6R:1:2102:25217:13392_2:N:0:ACAGTG\n",
      "\n",
      "==> Vir1_R1_100000.fq <==\n",
      "@M02255:131:000000000-AJC6R:1:1105:23249:10170_1:N:0:AGTCAA\n",
      "\n",
      "==> Vir1_R2_100000.fq <==\n",
      "@M02255:131:000000000-AJC6R:1:1105:23249:10170_2:N:0:AGTCAA\n",
      "Bact1_R1_200000.fq:200000\n",
      "Bact1_R2_200000.fq:200000\n",
      "Vir1_R1_100000.fq:100000\n",
      "Vir1_R2_100000.fq:100000\n"
     ]
    }
   ],
   "source": [
    "%%bash\n",
    "ssh microbioinf@192.168.56.101 2>/dev/null /bin/bash <<'EOT'\n",
    "cd Documentos/Tema_4a\n",
    "head -n 1 *fq\n",
    "grep -c \"@M02255\" *fq\n",
    "EOT"
   ]
  },
  {
   "cell_type": "markdown",
   "metadata": {},
   "source": [
    "## Quality (fastqc) ##"
   ]
  },
  {
   "cell_type": "code",
   "execution_count": 153,
   "metadata": {},
   "outputs": [
    {
     "name": "stdout",
     "output_type": "stream",
     "text": [
      "Analysis complete for Vir1_R1_100000.fq\n",
      "Analysis complete for Vir1_R2_100000.fq\n",
      "Analysis complete for Bact1_R1_200000.fq\n",
      "Analysis complete for Bact1_R2_200000.fq\n"
     ]
    }
   ],
   "source": [
    "%%bash\n",
    "ssh microbioinf@192.168.56.101 2>/dev/null /bin/bash <<'EOT'\n",
    "export PATH=$PATH:/home/microbioinf/miniconda3/bin\n",
    "cd Documentos/Tema_4a\n",
    "fastqc Vir1_R1_100000.fq -o fastQC_output/\n",
    "fastqc Vir1_R2_100000.fq -o fastQC_output/\n",
    "fastqc Bact1_R1_200000.fq -o fastQC_output/\n",
    "fastqc Bact1_R2_200000.fq -o fastQC_output/\n",
    "EOT"
   ]
  },
  {
   "cell_type": "markdown",
   "metadata": {},
   "source": [
    "## Trimming and decontaminating\n",
    "Trimming poor quality ends and short sequences (**Trimmomatic**) and removal of reads aligning to the human and phiX174 genomes (***bowtie2**). The later one is a contaminant used as spike by Illumina kits to control quality of the sequencing process.\n",
    "\n",
    "We are only filtering only R1 files because forward reads have usually better quality than reverse reads. "
   ]
  },
  {
   "cell_type": "markdown",
   "metadata": {},
   "source": [
    "### Processing"
   ]
  },
  {
   "cell_type": "code",
   "execution_count": 92,
   "metadata": {},
   "outputs": [
    {
     "name": "stdout",
     "output_type": "stream",
     "text": [
      "Initial number of reads ( /home/microbioinf/Documentos/Tema_4a/Bact1_R1_200000.fq ): 200000\n",
      "Running Trimmomatic ... \n",
      "Total reads after trimming ( /home/microbioinf/Documentos/Tema_4a/kneaddata_out/Bact1_R1_200000_kneaddata.trimmed.fastq ): 127652\n",
      "Decontaminating ...\n",
      "Running bowtie2 ... \n",
      "Total reads after removing those found in reference database ( /home/microbioinf/Documentos/Tema_4a/kneaddata_out/Bact1_R1_200000_kneaddata_GRCh38_PhiX_bowtie2_clean.fastq ): 32358\n",
      "Total reads after merging results from multiple databases ( /home/microbioinf/Documentos/Tema_4a/kneaddata_out/Bact1_R1_200000_kneaddata.fastq ): 32358\n",
      "\n",
      "Final output file created: \n",
      "/home/microbioinf/Documentos/Tema_4a/kneaddata_out/Bact1_R1_200000_kneaddata.fastq\n",
      "\n"
     ]
    }
   ],
   "source": [
    "%%bash\n",
    "ssh microbioinf@192.168.56.101 2>/dev/null /bin/bash <<'EOT'\n",
    "export PATH=$PATH:/home/microbioinf/miniconda3/bin\n",
    "cd Documentos/Tema_4a\n",
    "kneaddata -i Bact1_R1_200000.fq -o kneaddata_out \\\n",
    "-db /home/shared/bowtiedb/GRCh38_PhiX \\\n",
    "--trimmomatic /home/microbioinf/miniconda3/pkgs/trimmomatic-0.38-1/share/trimmomatic-0.38-1/ \\\n",
    "-t 2 --trimmomatic-options \"SLIDINGWINDOW:4:20 MINLEN:200\" \\\n",
    "--bowtie2-options \" --sensitive\" --remove-intermediate-output\n",
    "EOT"
   ]
  },
  {
   "cell_type": "code",
   "execution_count": 91,
   "metadata": {},
   "outputs": [
    {
     "name": "stdout",
     "output_type": "stream",
     "text": [
      "Initial number of reads ( /home/microbioinf/Documentos/Tema_4a/Vir1_R1_100000.fq ): 100000\n",
      "Running Trimmomatic ... \n",
      "Total reads after trimming ( /home/microbioinf/Documentos/Tema_4a/kneaddata_out/Vir1_R1_100000_kneaddata.trimmed.fastq ): 63602\n",
      "Decontaminating ...\n",
      "Running bowtie2 ... \n",
      "Total reads after removing those found in reference database ( /home/microbioinf/Documentos/Tema_4a/kneaddata_out/Vir1_R1_100000_kneaddata_GRCh38_PhiX_bowtie2_clean.fastq ): 63331\n",
      "Total reads after merging results from multiple databases ( /home/microbioinf/Documentos/Tema_4a/kneaddata_out/Vir1_R1_100000_kneaddata.fastq ): 63331\n",
      "\n",
      "Final output file created: \n",
      "/home/microbioinf/Documentos/Tema_4a/kneaddata_out/Vir1_R1_100000_kneaddata.fastq\n",
      "\n"
     ]
    }
   ],
   "source": [
    "%%bash\n",
    "ssh microbioinf@192.168.56.101 2>/dev/null /bin/bash <<'EOT'\n",
    "export PATH=$PATH:/home/microbioinf/miniconda3/bin\n",
    "cd Documentos/Tema_4a\n",
    "kneaddata -i Vir1_R1_100000.fq -o kneaddata_out \\\n",
    "-db /home/shared/bowtiedb/GRCh38_PhiX \\\n",
    "--trimmomatic /home/microbioinf/miniconda3/pkgs/trimmomatic-0.38-1/share/trimmomatic-0.38-1/ \\\n",
    "-t 2 --trimmomatic-options \"SLIDINGWINDOW:4:20 MINLEN:200\" \\\n",
    "--bowtie2-options \" --sensitive\" --remove-intermediate-output\n",
    "EOT"
   ]
  },
  {
   "cell_type": "markdown",
   "metadata": {},
   "source": [
    "### Process statistics"
   ]
  },
  {
   "cell_type": "code",
   "execution_count": 96,
   "metadata": {},
   "outputs": [
    {
     "name": "stdout",
     "output_type": "stream",
     "text": [
      "Reading log: ./Bact1_R1_200000_kneaddata.log\n",
      "Reading log: ./Vir1_R1_100000_kneaddata.log\n",
      "Read count table written: kneaddata_read_counts.txt\n"
     ]
    }
   ],
   "source": [
    "%%bash\n",
    "ssh microbioinf@192.168.56.101 2>/dev/null /bin/bash <<'EOT'\n",
    "export PATH=$PATH:/home/microbioinf/miniconda3/bin\n",
    "cd Documentos/Tema_4a/kneaddata_out\n",
    "kneaddata_read_count_table --input ./ --output kneaddata_read_counts.txt\n",
    "EOT"
   ]
  },
  {
   "cell_type": "code",
   "execution_count": 154,
   "metadata": {},
   "outputs": [
    {
     "data": {
      "text/html": [
       "<style  type=\"text/css\" >\n",
       "    #T_8c5bc7ae_6696_11e9_870b_b8e8562afb30row0_col0 {\n",
       "            text-align:  right;\n",
       "            font-family:  courier;\n",
       "            color:  darkgreen;\n",
       "            font-size:  11pt;\n",
       "            text-align:  right;\n",
       "            font-family:  courier;\n",
       "            color:  darkblue;\n",
       "            font-size:  12pt;\n",
       "        }    #T_8c5bc7ae_6696_11e9_870b_b8e8562afb30row0_col1 {\n",
       "            text-align:  right;\n",
       "            font-family:  courier;\n",
       "            color:  darkgreen;\n",
       "            font-size:  11pt;\n",
       "        }    #T_8c5bc7ae_6696_11e9_870b_b8e8562afb30row0_col2 {\n",
       "            text-align:  right;\n",
       "            font-family:  courier;\n",
       "            color:  darkgreen;\n",
       "            font-size:  11pt;\n",
       "        }    #T_8c5bc7ae_6696_11e9_870b_b8e8562afb30row0_col3 {\n",
       "            text-align:  right;\n",
       "            font-family:  courier;\n",
       "            color:  darkgreen;\n",
       "            font-size:  11pt;\n",
       "        }    #T_8c5bc7ae_6696_11e9_870b_b8e8562afb30row0_col4 {\n",
       "            text-align:  right;\n",
       "            font-family:  courier;\n",
       "            color:  darkgreen;\n",
       "            font-size:  11pt;\n",
       "        }    #T_8c5bc7ae_6696_11e9_870b_b8e8562afb30row1_col0 {\n",
       "            text-align:  right;\n",
       "            font-family:  courier;\n",
       "            color:  darkgreen;\n",
       "            font-size:  11pt;\n",
       "            text-align:  right;\n",
       "            font-family:  courier;\n",
       "            color:  darkblue;\n",
       "            font-size:  12pt;\n",
       "        }    #T_8c5bc7ae_6696_11e9_870b_b8e8562afb30row1_col1 {\n",
       "            text-align:  right;\n",
       "            font-family:  courier;\n",
       "            color:  darkgreen;\n",
       "            font-size:  11pt;\n",
       "        }    #T_8c5bc7ae_6696_11e9_870b_b8e8562afb30row1_col2 {\n",
       "            text-align:  right;\n",
       "            font-family:  courier;\n",
       "            color:  darkgreen;\n",
       "            font-size:  11pt;\n",
       "        }    #T_8c5bc7ae_6696_11e9_870b_b8e8562afb30row1_col3 {\n",
       "            text-align:  right;\n",
       "            font-family:  courier;\n",
       "            color:  darkgreen;\n",
       "            font-size:  11pt;\n",
       "        }    #T_8c5bc7ae_6696_11e9_870b_b8e8562afb30row1_col4 {\n",
       "            text-align:  right;\n",
       "            font-family:  courier;\n",
       "            color:  darkgreen;\n",
       "            font-size:  11pt;\n",
       "        }</style><table id=\"T_8c5bc7ae_6696_11e9_870b_b8e8562afb30\" ><thead>    <tr>        <th class=\"col_heading level0 col0\" >Sample</th>        <th class=\"col_heading level0 col1\" >raw single</th>        <th class=\"col_heading level0 col2\" >trimmed single</th>        <th class=\"col_heading level0 col3\" >decontaminated GRCh38_PhiX single</th>        <th class=\"col_heading level0 col4\" >final single</th>    </tr></thead><tbody>\n",
       "                <tr>\n",
       "                                <td id=\"T_8c5bc7ae_6696_11e9_870b_b8e8562afb30row0_col0\" class=\"data row0 col0\" >Bact1_R1_200000_kneaddata</td>\n",
       "                        <td id=\"T_8c5bc7ae_6696_11e9_870b_b8e8562afb30row0_col1\" class=\"data row0 col1\" >200000</td>\n",
       "                        <td id=\"T_8c5bc7ae_6696_11e9_870b_b8e8562afb30row0_col2\" class=\"data row0 col2\" >127652</td>\n",
       "                        <td id=\"T_8c5bc7ae_6696_11e9_870b_b8e8562afb30row0_col3\" class=\"data row0 col3\" >32358</td>\n",
       "                        <td id=\"T_8c5bc7ae_6696_11e9_870b_b8e8562afb30row0_col4\" class=\"data row0 col4\" >32358</td>\n",
       "            </tr>\n",
       "            <tr>\n",
       "                                <td id=\"T_8c5bc7ae_6696_11e9_870b_b8e8562afb30row1_col0\" class=\"data row1 col0\" >Vir1_R1_100000_kneaddata</td>\n",
       "                        <td id=\"T_8c5bc7ae_6696_11e9_870b_b8e8562afb30row1_col1\" class=\"data row1 col1\" >100000</td>\n",
       "                        <td id=\"T_8c5bc7ae_6696_11e9_870b_b8e8562afb30row1_col2\" class=\"data row1 col2\" >63602</td>\n",
       "                        <td id=\"T_8c5bc7ae_6696_11e9_870b_b8e8562afb30row1_col3\" class=\"data row1 col3\" >63331</td>\n",
       "                        <td id=\"T_8c5bc7ae_6696_11e9_870b_b8e8562afb30row1_col4\" class=\"data row1 col4\" >63331</td>\n",
       "            </tr>\n",
       "    </tbody></table>"
      ],
      "text/plain": [
       "<pandas.io.formats.style.Styler at 0x11bc43e48>"
      ]
     },
     "execution_count": 154,
     "metadata": {},
     "output_type": "execute_result"
    }
   ],
   "source": [
    "data = \"\"\"\n",
    "cat Documentos/Tema_4a/kneaddata_out/kneaddata_read_counts.txt\n",
    "EOT\n",
    "\"\"\"\n",
    "output = !ssh microbioinf@192.168.56.101 2>/dev/null /bin/bash <<'EOT' {data}\n",
    "\n",
    "data = []\n",
    "# To list of lists\n",
    "for row in output:\n",
    "    data.append(row.split('\\t'))\n",
    "# To dataframe\n",
    "df = pd.DataFrame(data[1:], columns=data[0])\n",
    "df.style.hide_index().set_properties(**{'text-align': 'right', 'font-family' : 'courier', 'color' : 'darkgreen', \"font-size\" : \"11pt\"}).\\\n",
    "set_properties(**{'text-align': 'right', 'font-family' : 'courier', 'color' : 'darkblue', \"font-size\" : \"12pt\"}, subset=['Sample'])"
   ]
  },
  {
   "cell_type": "markdown",
   "metadata": {},
   "source": [
    "With grep we can identify the non-contaminated high-quality files"
   ]
  },
  {
   "cell_type": "code",
   "execution_count": 155,
   "metadata": {},
   "outputs": [
    {
     "name": "stdout",
     "output_type": "stream",
     "text": [
      "Bact1_R1_200000_kneaddata.fastq:32358\n",
      "Bact1_R1_200000_kneaddata_GRCh38_PhiX_bowtie2_contam.fastq:95294\n",
      "Vir1_R1_100000_kneaddata.fastq:63331\n",
      "Vir1_R1_100000_kneaddata_GRCh38_PhiX_bowtie2_contam.fastq:271\n"
     ]
    }
   ],
   "source": [
    "%%bash\n",
    "ssh microbioinf@192.168.56.101 2>/dev/null /bin/bash <<'EOT'\n",
    "cd Documentos/Tema_4a/kneaddata_out\n",
    "grep -c \"@M02255:\" *fastq\n",
    "EOT"
   ]
  },
  {
   "cell_type": "markdown",
   "metadata": {},
   "source": [
    "### Check quality"
   ]
  },
  {
   "cell_type": "code",
   "execution_count": 156,
   "metadata": {},
   "outputs": [
    {
     "name": "stdout",
     "output_type": "stream",
     "text": [
      "Analysis complete for Bact1_R1_200000_kneaddata.fastq\n",
      "Analysis complete for Vir1_R1_100000_kneaddata.fastq\n"
     ]
    }
   ],
   "source": [
    "%%bash\n",
    "ssh microbioinf@192.168.56.101 2>/dev/null /bin/bash <<'EOT'\n",
    "cd Documentos/Tema_4a/kneaddata_out\n",
    "mkdir fastQC_HighQuality\n",
    "export PATH=$PATH:/home/microbioinf/miniconda3/bin\n",
    "fastqc Bact1_R1_200000_kneaddata.fastq -o fastQC_HighQuality/\n",
    "fastqc Vir1_R1_100000_kneaddata.fastq -o fastQC_HighQuality/\n",
    "EOT"
   ]
  },
  {
   "cell_type": "markdown",
   "metadata": {},
   "source": [
    "## Blastx comparison with a viral protein database\n",
    "\n",
    " We are going to use a Refseq database of viral proteins (around 100Mb) from ncbi (ftp://ftp.ncbi.nlm.nih.gov/refseq/release/viral/), and you have to download it in two separated files that can be joined into one with cat.\n",
    " "
   ]
  },
  {
   "cell_type": "markdown",
   "metadata": {},
   "source": [
    "### Set up the reference database for diamond\n",
    "\n",
    "This will create a binary DIAMOND database file with the name: *viralprotein.dmnd*"
   ]
  },
  {
   "cell_type": "code",
   "execution_count": 157,
   "metadata": {},
   "outputs": [
    {
     "name": "stdout",
     "output_type": "stream",
     "text": [
      "diamond v0.8.36.98 | by Benjamin Buchfink <buchfink@gmail.com>\n",
      "Check http://github.com/bbuchfink/diamond for updates.\n",
      "\n",
      "#CPU threads: 3\n",
      "Database file: viral.protein.faa\n",
      "Opening the database file...  [0.015813s]\n",
      "Loading sequence data (0 sequences processed)...  [0.149662s]\n",
      "Loading sequence data (100000 sequences processed)...  [0.142183s]\n",
      "Loading sequence data (200000 sequences processed)...  [0.158145s]\n",
      "Loading sequence data (300000 sequences processed)...  [0.040807s]\n",
      "Writing trailer...  [0.003161s]\n",
      "Closing the input file...  [4e-05s]\n",
      "Closing the database file...  [0.061918s]\n",
      "Processed 323029 sequences, 82978170 letters.\n",
      "Total time = 0.572598s\n"
     ]
    }
   ],
   "source": [
    "%%bash\n",
    "ssh microbioinf@192.168.56.101 2>/dev/null /bin/bash <<'EOT'\n",
    "cd Documentos/Tema_4a\n",
    "export PATH=$PATH:/home/microbioinf/miniconda3/bin\n",
    "diamond makedb --in viral.protein.faa -d viralprotein\n",
    "EOT"
   ]
  }
 ],
 "metadata": {
  "kernelspec": {
   "display_name": "Python 3",
   "language": "python",
   "name": "python3"
  },
  "language_info": {
   "codemirror_mode": {
    "name": "ipython",
    "version": 3
   },
   "file_extension": ".py",
   "mimetype": "text/x-python",
   "name": "python",
   "nbconvert_exporter": "python",
   "pygments_lexer": "ipython3",
   "version": "3.7.1"
  },
  "nbTranslate": {
   "displayLangs": [
    "*"
   ],
   "hotkey": "alt-t",
   "langInMainMenu": true,
   "sourceLang": "en",
   "targetLang": "fr",
   "useGoogleTranslate": true
  },
  "toc": {
   "base_numbering": 1,
   "nav_menu": {},
   "number_sections": true,
   "sideBar": true,
   "skip_h1_title": false,
   "title_cell": "Table of Contents",
   "title_sidebar": "Contents",
   "toc_cell": false,
   "toc_position": {},
   "toc_section_display": true,
   "toc_window_display": true
  }
 },
 "nbformat": 4,
 "nbformat_minor": 2
}
