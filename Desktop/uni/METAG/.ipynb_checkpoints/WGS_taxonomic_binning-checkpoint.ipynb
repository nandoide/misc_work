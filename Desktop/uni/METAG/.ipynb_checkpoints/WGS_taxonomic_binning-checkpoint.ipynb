{
 "cells": [
  {
   "cell_type": "markdown",
   "metadata": {},
   "source": [
    "#  Whole Genome Shotgun metagenomics: Taxonomic Binning Pipeline"
   ]
  },
  {
   "cell_type": "markdown",
   "metadata": {},
   "source": [
    "We have two fastqc files to process:\n",
    "1. *Microbiome1_200k* that contains $200,000$ paired end reads from total DNA extracted from human saliva. So this is a microbiome.\n",
    "\n",
    "\n",
    "2. *Vir1_100k* that contains $100,000$ paired end reads from the same saliva sample but after purification of viral particles. So this is a virome.\n"
   ]
  },
  {
   "cell_type": "code",
   "execution_count": 19,
   "metadata": {},
   "outputs": [],
   "source": [
    "import warnings\n",
    "warnings.filterwarnings('ignore')"
   ]
  },
  {
   "cell_type": "markdown",
   "metadata": {},
   "source": [
    "## Check files\n",
    "Check the number of reads of our files and look at the header with grep and head commands"
   ]
  },
  {
   "cell_type": "code",
   "execution_count": 81,
   "metadata": {},
   "outputs": [
    {
     "name": "stdout",
     "output_type": "stream",
     "text": [
      "==> Bact1_R1_200000.fq <==\n",
      "@M02255:131:000000000-AJC6R:1:2102:25217:13392_1:N:0:ACAGTG\n",
      "\n",
      "==> Bact1_R2_200000.fq <==\n",
      "@M02255:131:000000000-AJC6R:1:2102:25217:13392_2:N:0:ACAGTG\n",
      "\n",
      "==> Vir1_R1_100000.fq <==\n",
      "@M02255:131:000000000-AJC6R:1:1105:23249:10170_1:N:0:AGTCAA\n",
      "\n",
      "==> Vir1_R2_100000.fq <==\n",
      "@M02255:131:000000000-AJC6R:1:1105:23249:10170_2:N:0:AGTCAA\n",
      "Bact1_R1_200000.fq:200000\n",
      "Bact1_R2_200000.fq:200000\n",
      "Vir1_R1_100000.fq:100000\n",
      "Vir1_R2_100000.fq:100000\n"
     ]
    }
   ],
   "source": [
    "%%bash\n",
    "ssh microbioinf@192.168.56.101 /bin/bash <<'EOT'\n",
    "cd Documentos/Tema_4a\n",
    "head -n 1 *fq\n",
    "grep -c \"@M02255\" *fq\n",
    "EOT"
   ]
  },
  {
   "cell_type": "markdown",
   "metadata": {},
   "source": [
    "## Quality (fastqc) ##"
   ]
  },
  {
   "cell_type": "code",
   "execution_count": 93,
   "metadata": {},
   "outputs": [
    {
     "name": "stdout",
     "output_type": "stream",
     "text": [
      "Analysis complete for Vir1_R1_100000.fq\n"
     ]
    },
    {
     "name": "stderr",
     "output_type": "stream",
     "text": [
      "Started analysis of Vir1_R1_100000.fq\n",
      "Approx 5% complete for Vir1_R1_100000.fq\n",
      "Approx 10% complete for Vir1_R1_100000.fq\n",
      "Approx 15% complete for Vir1_R1_100000.fq\n",
      "Approx 20% complete for Vir1_R1_100000.fq\n",
      "Approx 25% complete for Vir1_R1_100000.fq\n",
      "Approx 30% complete for Vir1_R1_100000.fq\n",
      "Approx 35% complete for Vir1_R1_100000.fq\n",
      "Approx 40% complete for Vir1_R1_100000.fq\n",
      "Approx 45% complete for Vir1_R1_100000.fq\n",
      "Approx 50% complete for Vir1_R1_100000.fq\n",
      "Approx 55% complete for Vir1_R1_100000.fq\n",
      "Approx 60% complete for Vir1_R1_100000.fq\n",
      "Approx 65% complete for Vir1_R1_100000.fq\n",
      "Approx 70% complete for Vir1_R1_100000.fq\n",
      "Approx 75% complete for Vir1_R1_100000.fq\n",
      "Approx 80% complete for Vir1_R1_100000.fq\n",
      "Approx 85% complete for Vir1_R1_100000.fq\n",
      "Approx 90% complete for Vir1_R1_100000.fq\n",
      "Approx 95% complete for Vir1_R1_100000.fq\n",
      "Approx 100% complete for Vir1_R1_100000.fq\n"
     ]
    }
   ],
   "source": [
    "%%bash\n",
    "ssh microbioinf@192.168.56.101 /bin/bash <<'EOT'\n",
    "export PATH=$PATH:/home/microbioinf/miniconda3/bin\n",
    "cd Documentos/Tema_4a\n",
    "fastqc Vir1_R1_100000.fq -o fastQC_output/\n",
    "fastqc Vir1_R2_100000.fq -o fastQC_output/\n",
    "fastqc Bact1_R1_200000.fq -o fastQC_output/\n",
    "fastqc Bact1_R2_200000.fq -o fastQC_output/\n",
    "EOT"
   ]
  },
  {
   "cell_type": "markdown",
   "metadata": {},
   "source": [
    "## Trimming and decontaminating\n",
    "Trimming poor quality ends and short sequences (**Trimmomatic**) and removal of reads aligning to the human and phiX174 genomes (***bowtie2**). The later one is a contaminant used as spike by Illumina kits to control quality of the sequencing process.\n",
    "\n",
    "We are only filtering only R1 files because forward reads have usually better quality than reverse reads. "
   ]
  },
  {
   "cell_type": "markdown",
   "metadata": {},
   "source": [
    "### Processing"
   ]
  },
  {
   "cell_type": "code",
   "execution_count": 92,
   "metadata": {},
   "outputs": [
    {
     "name": "stdout",
     "output_type": "stream",
     "text": [
      "Initial number of reads ( /home/microbioinf/Documentos/Tema_4a/Bact1_R1_200000.fq ): 200000\n",
      "Running Trimmomatic ... \n",
      "Total reads after trimming ( /home/microbioinf/Documentos/Tema_4a/kneaddata_out/Bact1_R1_200000_kneaddata.trimmed.fastq ): 127652\n",
      "Decontaminating ...\n",
      "Running bowtie2 ... \n",
      "Total reads after removing those found in reference database ( /home/microbioinf/Documentos/Tema_4a/kneaddata_out/Bact1_R1_200000_kneaddata_GRCh38_PhiX_bowtie2_clean.fastq ): 32358\n",
      "Total reads after merging results from multiple databases ( /home/microbioinf/Documentos/Tema_4a/kneaddata_out/Bact1_R1_200000_kneaddata.fastq ): 32358\n",
      "\n",
      "Final output file created: \n",
      "/home/microbioinf/Documentos/Tema_4a/kneaddata_out/Bact1_R1_200000_kneaddata.fastq\n",
      "\n"
     ]
    }
   ],
   "source": [
    "%%bash\n",
    "ssh microbioinf@192.168.56.101 /bin/bash <<'EOT'\n",
    "export PATH=$PATH:/home/microbioinf/miniconda3/bin\n",
    "cd Documentos/Tema_4a\n",
    "kneaddata -i Bact1_R1_200000.fq -o kneaddata_out \\\n",
    "-db /home/shared/bowtiedb/GRCh38_PhiX \\\n",
    "--trimmomatic /home/microbioinf/miniconda3/pkgs/trimmomatic-0.38-1/share/trimmomatic-0.38-1/ \\\n",
    "-t 2 --trimmomatic-options \"SLIDINGWINDOW:4:20 MINLEN:200\" \\\n",
    "--bowtie2-options \" --sensitive\" --remove-intermediate-output\n",
    "EOT"
   ]
  },
  {
   "cell_type": "code",
   "execution_count": 91,
   "metadata": {},
   "outputs": [
    {
     "name": "stdout",
     "output_type": "stream",
     "text": [
      "Initial number of reads ( /home/microbioinf/Documentos/Tema_4a/Vir1_R1_100000.fq ): 100000\n",
      "Running Trimmomatic ... \n",
      "Total reads after trimming ( /home/microbioinf/Documentos/Tema_4a/kneaddata_out/Vir1_R1_100000_kneaddata.trimmed.fastq ): 63602\n",
      "Decontaminating ...\n",
      "Running bowtie2 ... \n",
      "Total reads after removing those found in reference database ( /home/microbioinf/Documentos/Tema_4a/kneaddata_out/Vir1_R1_100000_kneaddata_GRCh38_PhiX_bowtie2_clean.fastq ): 63331\n",
      "Total reads after merging results from multiple databases ( /home/microbioinf/Documentos/Tema_4a/kneaddata_out/Vir1_R1_100000_kneaddata.fastq ): 63331\n",
      "\n",
      "Final output file created: \n",
      "/home/microbioinf/Documentos/Tema_4a/kneaddata_out/Vir1_R1_100000_kneaddata.fastq\n",
      "\n"
     ]
    }
   ],
   "source": [
    "%%bash\n",
    "ssh microbioinf@192.168.56.101 /bin/bash <<'EOT'\n",
    "export PATH=$PATH:/home/microbioinf/miniconda3/bin\n",
    "cd Documentos/Tema_4a\n",
    "kneaddata -i Vir1_R1_100000.fq -o kneaddata_out \\\n",
    "-db /home/shared/bowtiedb/GRCh38_PhiX \\\n",
    "--trimmomatic /home/microbioinf/miniconda3/pkgs/trimmomatic-0.38-1/share/trimmomatic-0.38-1/ \\\n",
    "-t 2 --trimmomatic-options \"SLIDINGWINDOW:4:20 MINLEN:200\" \\\n",
    "--bowtie2-options \" --sensitive\" --remove-intermediate-output\n",
    "EOT"
   ]
  },
  {
   "cell_type": "markdown",
   "metadata": {},
   "source": [
    "### Proces statistics"
   ]
  },
  {
   "cell_type": "code",
   "execution_count": 96,
   "metadata": {},
   "outputs": [
    {
     "name": "stdout",
     "output_type": "stream",
     "text": [
      "Reading log: ./Bact1_R1_200000_kneaddata.log\n",
      "Reading log: ./Vir1_R1_100000_kneaddata.log\n",
      "Read count table written: kneaddata_read_counts.txt\n"
     ]
    }
   ],
   "source": [
    "%%bash\n",
    "ssh microbioinf@192.168.56.101 /bin/bash <<'EOT'\n",
    "export PATH=$PATH:/home/microbioinf/miniconda3/bin\n",
    "cd Documentos/Tema_4a/kneaddata_out\n",
    "kneaddata_read_count_table --input ./ --output kneaddata_read_counts.txt\n",
    "EOT"
   ]
  },
  {
   "cell_type": "code",
   "execution_count": 97,
   "metadata": {},
   "outputs": [
    {
     "name": "stdout",
     "output_type": "stream",
     "text": [
      "Sample\traw single\ttrimmed single\tdecontaminated GRCh38_PhiX single\tfinal single\n",
      "Bact1_R1_200000_kneaddata\t200000\t127652\t32358\t32358\n",
      "Vir1_R1_100000_kneaddata\t100000\t63602\t63331\t63331\n"
     ]
    }
   ],
   "source": [
    "%%bash\n",
    "ssh microbioinf@192.168.56.101 /bin/bash <<'EOT'\n",
    "export PATH=$PATH:/home/microbioinf/miniconda3/bin\n",
    "cd Documentos/Tema_4a/kneaddata_out\n",
    "cat kneaddata_read_counts.txt\n",
    "EOT"
   ]
  }
 ],
 "metadata": {
  "kernelspec": {
   "display_name": "Python 3",
   "language": "python",
   "name": "python3"
  },
  "language_info": {
   "codemirror_mode": {
    "name": "ipython",
    "version": 3
   },
   "file_extension": ".py",
   "mimetype": "text/x-python",
   "name": "python",
   "nbconvert_exporter": "python",
   "pygments_lexer": "ipython3",
   "version": "3.7.1"
  },
  "nbTranslate": {
   "displayLangs": [
    "*"
   ],
   "hotkey": "alt-t",
   "langInMainMenu": true,
   "sourceLang": "en",
   "targetLang": "fr",
   "useGoogleTranslate": true
  },
  "toc": {
   "base_numbering": 1,
   "nav_menu": {},
   "number_sections": true,
   "sideBar": true,
   "skip_h1_title": false,
   "title_cell": "Table of Contents",
   "title_sidebar": "Contents",
   "toc_cell": false,
   "toc_position": {},
   "toc_section_display": true,
   "toc_window_display": false
  }
 },
 "nbformat": 4,
 "nbformat_minor": 2
}
