{
 "cells": [
  {
   "cell_type": "markdown",
   "metadata": {},
   "source": [
    "#  Whole Genome Shotgun metagenomics: Taxonomic Binning Pipeline"
   ]
  },
  {
   "cell_type": "markdown",
   "metadata": {},
   "source": [
    "We have two fastqc files to process:\n",
    "1. *Microbiome1_200k* that contains $200,000$ paired end reads from total DNA extracted from human saliva. So this is a microbiome.\n",
    "\n",
    "\n",
    "2. *Vir1_100k* that contains $100,000$ paired end reads from the same saliva sample but after purification of viral particles. So this is a virome.\n"
   ]
  },
  {
   "cell_type": "code",
   "execution_count": 105,
   "metadata": {},
   "outputs": [],
   "source": [
    "import warnings\n",
    "warnings.filterwarnings('ignore')\n",
    "import pandas as pd"
   ]
  },
  {
   "cell_type": "markdown",
   "metadata": {},
   "source": [
    "## Check files\n",
    "Check the number of reads of our files and look at the header with grep and head commands"
   ]
  },
  {
   "cell_type": "code",
   "execution_count": 152,
   "metadata": {},
   "outputs": [
    {
     "name": "stdout",
     "output_type": "stream",
     "text": [
      "==> Bact1_R1_200000.fq <==\n",
      "@M02255:131:000000000-AJC6R:1:2102:25217:13392_1:N:0:ACAGTG\n",
      "\n",
      "==> Bact1_R2_200000.fq <==\n",
      "@M02255:131:000000000-AJC6R:1:2102:25217:13392_2:N:0:ACAGTG\n",
      "\n",
      "==> Vir1_R1_100000.fq <==\n",
      "@M02255:131:000000000-AJC6R:1:1105:23249:10170_1:N:0:AGTCAA\n",
      "\n",
      "==> Vir1_R2_100000.fq <==\n",
      "@M02255:131:000000000-AJC6R:1:1105:23249:10170_2:N:0:AGTCAA\n",
      "Bact1_R1_200000.fq:200000\n",
      "Bact1_R2_200000.fq:200000\n",
      "Vir1_R1_100000.fq:100000\n",
      "Vir1_R2_100000.fq:100000\n"
     ]
    }
   ],
   "source": [
    "%%bash\n",
    "ssh microbioinf@192.168.56.101 2>/dev/null /bin/bash <<'EOT'\n",
    "cd Documentos/Tema_4a\n",
    "head -n 1 *fq\n",
    "grep -c \"@M02255\" *fq\n",
    "EOT"
   ]
  },
  {
   "cell_type": "markdown",
   "metadata": {},
   "source": [
    "## Quality (fastqc) ##"
   ]
  },
  {
   "cell_type": "code",
   "execution_count": 153,
   "metadata": {},
   "outputs": [
    {
     "name": "stdout",
     "output_type": "stream",
     "text": [
      "Analysis complete for Vir1_R1_100000.fq\n",
      "Analysis complete for Vir1_R2_100000.fq\n",
      "Analysis complete for Bact1_R1_200000.fq\n",
      "Analysis complete for Bact1_R2_200000.fq\n"
     ]
    }
   ],
   "source": [
    "%%bash\n",
    "ssh microbioinf@192.168.56.101 2>/dev/null /bin/bash <<'EOT'\n",
    "export PATH=$PATH:/home/microbioinf/miniconda3/bin\n",
    "cd Documentos/Tema_4a\n",
    "fastqc Vir1_R1_100000.fq -o fastQC_output/\n",
    "fastqc Vir1_R2_100000.fq -o fastQC_output/\n",
    "fastqc Bact1_R1_200000.fq -o fastQC_output/\n",
    "fastqc Bact1_R2_200000.fq -o fastQC_output/\n",
    "EOT"
   ]
  },
  {
   "cell_type": "markdown",
   "metadata": {},
   "source": [
    "## Trimming and decontaminating\n",
    "Trimming poor quality ends and short sequences (**Trimmomatic**) and removal of reads aligning to the human and phiX174 genomes (***bowtie2**). The later one is a contaminant used as spike by Illumina kits to control quality of the sequencing process.\n",
    "\n",
    "We are only filtering only R1 files because forward reads have usually better quality than reverse reads. "
   ]
  },
  {
   "cell_type": "markdown",
   "metadata": {},
   "source": [
    "### Processing"
   ]
  },
  {
   "cell_type": "code",
   "execution_count": 92,
   "metadata": {},
   "outputs": [
    {
     "name": "stdout",
     "output_type": "stream",
     "text": [
      "Initial number of reads ( /home/microbioinf/Documentos/Tema_4a/Bact1_R1_200000.fq ): 200000\n",
      "Running Trimmomatic ... \n",
      "Total reads after trimming ( /home/microbioinf/Documentos/Tema_4a/kneaddata_out/Bact1_R1_200000_kneaddata.trimmed.fastq ): 127652\n",
      "Decontaminating ...\n",
      "Running bowtie2 ... \n",
      "Total reads after removing those found in reference database ( /home/microbioinf/Documentos/Tema_4a/kneaddata_out/Bact1_R1_200000_kneaddata_GRCh38_PhiX_bowtie2_clean.fastq ): 32358\n",
      "Total reads after merging results from multiple databases ( /home/microbioinf/Documentos/Tema_4a/kneaddata_out/Bact1_R1_200000_kneaddata.fastq ): 32358\n",
      "\n",
      "Final output file created: \n",
      "/home/microbioinf/Documentos/Tema_4a/kneaddata_out/Bact1_R1_200000_kneaddata.fastq\n",
      "\n"
     ]
    }
   ],
   "source": [
    "%%bash\n",
    "ssh microbioinf@192.168.56.101 2>/dev/null /bin/bash <<'EOT'\n",
    "export PATH=$PATH:/home/microbioinf/miniconda3/bin\n",
    "cd Documentos/Tema_4a\n",
    "kneaddata -i Bact1_R1_200000.fq -o kneaddata_out \\\n",
    "-db /home/shared/bowtiedb/GRCh38_PhiX \\\n",
    "--trimmomatic /home/microbioinf/miniconda3/pkgs/trimmomatic-0.38-1/share/trimmomatic-0.38-1/ \\\n",
    "-t 2 --trimmomatic-options \"SLIDINGWINDOW:4:20 MINLEN:200\" \\\n",
    "--bowtie2-options \" --sensitive\" --remove-intermediate-output\n",
    "EOT"
   ]
  },
  {
   "cell_type": "code",
   "execution_count": 91,
   "metadata": {},
   "outputs": [
    {
     "name": "stdout",
     "output_type": "stream",
     "text": [
      "Initial number of reads ( /home/microbioinf/Documentos/Tema_4a/Vir1_R1_100000.fq ): 100000\n",
      "Running Trimmomatic ... \n",
      "Total reads after trimming ( /home/microbioinf/Documentos/Tema_4a/kneaddata_out/Vir1_R1_100000_kneaddata.trimmed.fastq ): 63602\n",
      "Decontaminating ...\n",
      "Running bowtie2 ... \n",
      "Total reads after removing those found in reference database ( /home/microbioinf/Documentos/Tema_4a/kneaddata_out/Vir1_R1_100000_kneaddata_GRCh38_PhiX_bowtie2_clean.fastq ): 63331\n",
      "Total reads after merging results from multiple databases ( /home/microbioinf/Documentos/Tema_4a/kneaddata_out/Vir1_R1_100000_kneaddata.fastq ): 63331\n",
      "\n",
      "Final output file created: \n",
      "/home/microbioinf/Documentos/Tema_4a/kneaddata_out/Vir1_R1_100000_kneaddata.fastq\n",
      "\n"
     ]
    }
   ],
   "source": [
    "%%bash\n",
    "ssh microbioinf@192.168.56.101 2>/dev/null /bin/bash <<'EOT'\n",
    "export PATH=$PATH:/home/microbioinf/miniconda3/bin\n",
    "cd Documentos/Tema_4a\n",
    "kneaddata -i Vir1_R1_100000.fq -o kneaddata_out \\\n",
    "-db /home/shared/bowtiedb/GRCh38_PhiX \\\n",
    "--trimmomatic /home/microbioinf/miniconda3/pkgs/trimmomatic-0.38-1/share/trimmomatic-0.38-1/ \\\n",
    "-t 2 --trimmomatic-options \"SLIDINGWINDOW:4:20 MINLEN:200\" \\\n",
    "--bowtie2-options \" --sensitive\" --remove-intermediate-output\n",
    "EOT"
   ]
  },
  {
   "cell_type": "markdown",
   "metadata": {},
   "source": [
    "### Process statistics"
   ]
  },
  {
   "cell_type": "code",
   "execution_count": 96,
   "metadata": {},
   "outputs": [
    {
     "name": "stdout",
     "output_type": "stream",
     "text": [
      "Reading log: ./Bact1_R1_200000_kneaddata.log\n",
      "Reading log: ./Vir1_R1_100000_kneaddata.log\n",
      "Read count table written: kneaddata_read_counts.txt\n"
     ]
    }
   ],
   "source": [
    "%%bash\n",
    "ssh microbioinf@192.168.56.101 2>/dev/null /bin/bash <<'EOT'\n",
    "export PATH=$PATH:/home/microbioinf/miniconda3/bin\n",
    "cd Documentos/Tema_4a/kneaddata_out\n",
    "kneaddata_read_count_table --input ./ --output kneaddata_read_counts.txt\n",
    "EOT"
   ]
  },
  {
   "cell_type": "code",
   "execution_count": 154,
   "metadata": {},
   "outputs": [
    {
     "data": {
      "text/html": [
       "<style  type=\"text/css\" >\n",
       "    #T_8c5bc7ae_6696_11e9_870b_b8e8562afb30row0_col0 {\n",
       "            text-align:  right;\n",
       "            font-family:  courier;\n",
       "            color:  darkgreen;\n",
       "            font-size:  11pt;\n",
       "            text-align:  right;\n",
       "            font-family:  courier;\n",
       "            color:  darkblue;\n",
       "            font-size:  12pt;\n",
       "        }    #T_8c5bc7ae_6696_11e9_870b_b8e8562afb30row0_col1 {\n",
       "            text-align:  right;\n",
       "            font-family:  courier;\n",
       "            color:  darkgreen;\n",
       "            font-size:  11pt;\n",
       "        }    #T_8c5bc7ae_6696_11e9_870b_b8e8562afb30row0_col2 {\n",
       "            text-align:  right;\n",
       "            font-family:  courier;\n",
       "            color:  darkgreen;\n",
       "            font-size:  11pt;\n",
       "        }    #T_8c5bc7ae_6696_11e9_870b_b8e8562afb30row0_col3 {\n",
       "            text-align:  right;\n",
       "            font-family:  courier;\n",
       "            color:  darkgreen;\n",
       "            font-size:  11pt;\n",
       "        }    #T_8c5bc7ae_6696_11e9_870b_b8e8562afb30row0_col4 {\n",
       "            text-align:  right;\n",
       "            font-family:  courier;\n",
       "            color:  darkgreen;\n",
       "            font-size:  11pt;\n",
       "        }    #T_8c5bc7ae_6696_11e9_870b_b8e8562afb30row1_col0 {\n",
       "            text-align:  right;\n",
       "            font-family:  courier;\n",
       "            color:  darkgreen;\n",
       "            font-size:  11pt;\n",
       "            text-align:  right;\n",
       "            font-family:  courier;\n",
       "            color:  darkblue;\n",
       "            font-size:  12pt;\n",
       "        }    #T_8c5bc7ae_6696_11e9_870b_b8e8562afb30row1_col1 {\n",
       "            text-align:  right;\n",
       "            font-family:  courier;\n",
       "            color:  darkgreen;\n",
       "            font-size:  11pt;\n",
       "        }    #T_8c5bc7ae_6696_11e9_870b_b8e8562afb30row1_col2 {\n",
       "            text-align:  right;\n",
       "            font-family:  courier;\n",
       "            color:  darkgreen;\n",
       "            font-size:  11pt;\n",
       "        }    #T_8c5bc7ae_6696_11e9_870b_b8e8562afb30row1_col3 {\n",
       "            text-align:  right;\n",
       "            font-family:  courier;\n",
       "            color:  darkgreen;\n",
       "            font-size:  11pt;\n",
       "        }    #T_8c5bc7ae_6696_11e9_870b_b8e8562afb30row1_col4 {\n",
       "            text-align:  right;\n",
       "            font-family:  courier;\n",
       "            color:  darkgreen;\n",
       "            font-size:  11pt;\n",
       "        }</style><table id=\"T_8c5bc7ae_6696_11e9_870b_b8e8562afb30\" ><thead>    <tr>        <th class=\"col_heading level0 col0\" >Sample</th>        <th class=\"col_heading level0 col1\" >raw single</th>        <th class=\"col_heading level0 col2\" >trimmed single</th>        <th class=\"col_heading level0 col3\" >decontaminated GRCh38_PhiX single</th>        <th class=\"col_heading level0 col4\" >final single</th>    </tr></thead><tbody>\n",
       "                <tr>\n",
       "                                <td id=\"T_8c5bc7ae_6696_11e9_870b_b8e8562afb30row0_col0\" class=\"data row0 col0\" >Bact1_R1_200000_kneaddata</td>\n",
       "                        <td id=\"T_8c5bc7ae_6696_11e9_870b_b8e8562afb30row0_col1\" class=\"data row0 col1\" >200000</td>\n",
       "                        <td id=\"T_8c5bc7ae_6696_11e9_870b_b8e8562afb30row0_col2\" class=\"data row0 col2\" >127652</td>\n",
       "                        <td id=\"T_8c5bc7ae_6696_11e9_870b_b8e8562afb30row0_col3\" class=\"data row0 col3\" >32358</td>\n",
       "                        <td id=\"T_8c5bc7ae_6696_11e9_870b_b8e8562afb30row0_col4\" class=\"data row0 col4\" >32358</td>\n",
       "            </tr>\n",
       "            <tr>\n",
       "                                <td id=\"T_8c5bc7ae_6696_11e9_870b_b8e8562afb30row1_col0\" class=\"data row1 col0\" >Vir1_R1_100000_kneaddata</td>\n",
       "                        <td id=\"T_8c5bc7ae_6696_11e9_870b_b8e8562afb30row1_col1\" class=\"data row1 col1\" >100000</td>\n",
       "                        <td id=\"T_8c5bc7ae_6696_11e9_870b_b8e8562afb30row1_col2\" class=\"data row1 col2\" >63602</td>\n",
       "                        <td id=\"T_8c5bc7ae_6696_11e9_870b_b8e8562afb30row1_col3\" class=\"data row1 col3\" >63331</td>\n",
       "                        <td id=\"T_8c5bc7ae_6696_11e9_870b_b8e8562afb30row1_col4\" class=\"data row1 col4\" >63331</td>\n",
       "            </tr>\n",
       "    </tbody></table>"
      ],
      "text/plain": [
       "<pandas.io.formats.style.Styler at 0x11bc43e48>"
      ]
     },
     "execution_count": 154,
     "metadata": {},
     "output_type": "execute_result"
    }
   ],
   "source": [
    "data = \"\"\"\n",
    "cat Documentos/Tema_4a/kneaddata_out/kneaddata_read_counts.txt\n",
    "EOT\n",
    "\"\"\"\n",
    "output = !ssh microbioinf@192.168.56.101 2>/dev/null /bin/bash <<'EOT' {data}\n",
    "\n",
    "data = []\n",
    "# To list of lists\n",
    "for row in output:\n",
    "    data.append(row.split('\\t'))\n",
    "# To dataframe\n",
    "df = pd.DataFrame(data[1:], columns=data[0])\n",
    "df.style.hide_index().set_properties(**{'text-align': 'right', 'font-family' : 'courier', 'color' : 'darkgreen', \"font-size\" : \"11pt\"}).\\\n",
    "set_properties(**{'text-align': 'right', 'font-family' : 'courier', 'color' : 'darkblue', \"font-size\" : \"12pt\"}, subset=['Sample'])"
   ]
  },
  {
   "cell_type": "markdown",
   "metadata": {},
   "source": [
    "With grep we can identify the non-contaminated high-quality files"
   ]
  },
  {
   "cell_type": "code",
   "execution_count": 155,
   "metadata": {},
   "outputs": [
    {
     "name": "stdout",
     "output_type": "stream",
     "text": [
      "Bact1_R1_200000_kneaddata.fastq:32358\n",
      "Bact1_R1_200000_kneaddata_GRCh38_PhiX_bowtie2_contam.fastq:95294\n",
      "Vir1_R1_100000_kneaddata.fastq:63331\n",
      "Vir1_R1_100000_kneaddata_GRCh38_PhiX_bowtie2_contam.fastq:271\n"
     ]
    }
   ],
   "source": [
    "%%bash\n",
    "ssh microbioinf@192.168.56.101 2>/dev/null /bin/bash <<'EOT'\n",
    "cd Documentos/Tema_4a/kneaddata_out\n",
    "grep -c \"@M02255:\" *fastq\n",
    "EOT"
   ]
  },
  {
   "cell_type": "markdown",
   "metadata": {},
   "source": [
    "### Check quality"
   ]
  },
  {
   "cell_type": "code",
   "execution_count": 156,
   "metadata": {},
   "outputs": [
    {
     "name": "stdout",
     "output_type": "stream",
     "text": [
      "Analysis complete for Bact1_R1_200000_kneaddata.fastq\n",
      "Analysis complete for Vir1_R1_100000_kneaddata.fastq\n"
     ]
    }
   ],
   "source": [
    "%%bash\n",
    "ssh microbioinf@192.168.56.101 2>/dev/null /bin/bash <<'EOT'\n",
    "cd Documentos/Tema_4a/kneaddata_out\n",
    "mkdir fastQC_HighQuality\n",
    "export PATH=$PATH:/home/microbioinf/miniconda3/bin\n",
    "fastqc Bact1_R1_200000_kneaddata.fastq -o fastQC_HighQuality/\n",
    "fastqc Vir1_R1_100000_kneaddata.fastq -o fastQC_HighQuality/\n",
    "EOT"
   ]
  },
  {
   "cell_type": "markdown",
   "metadata": {},
   "source": [
    "## Blastx comparison with a viral protein database\n",
    "\n",
    " We are going to use a Refseq database of viral proteins (around 100Mb) from ncbi (ftp://ftp.ncbi.nlm.nih.gov/refseq/release/viral/), and you have to download it in two separated files that can be joined into one with cat.\n",
    " "
   ]
  },
  {
   "cell_type": "markdown",
   "metadata": {},
   "source": [
    "### Set up the reference database for diamond\n",
    "\n",
    "This will create a binary DIAMOND database file with the name: *viralprotein.dmnd*"
   ]
  },
  {
   "cell_type": "code",
   "execution_count": 157,
   "metadata": {},
   "outputs": [
    {
     "name": "stdout",
     "output_type": "stream",
     "text": [
      "diamond v0.8.36.98 | by Benjamin Buchfink <buchfink@gmail.com>\n",
      "Check http://github.com/bbuchfink/diamond for updates.\n",
      "\n",
      "#CPU threads: 3\n",
      "Database file: viral.protein.faa\n",
      "Opening the database file...  [0.015813s]\n",
      "Loading sequence data (0 sequences processed)...  [0.149662s]\n",
      "Loading sequence data (100000 sequences processed)...  [0.142183s]\n",
      "Loading sequence data (200000 sequences processed)...  [0.158145s]\n",
      "Loading sequence data (300000 sequences processed)...  [0.040807s]\n",
      "Writing trailer...  [0.003161s]\n",
      "Closing the input file...  [4e-05s]\n",
      "Closing the database file...  [0.061918s]\n",
      "Processed 323029 sequences, 82978170 letters.\n",
      "Total time = 0.572598s\n"
     ]
    }
   ],
   "source": [
    "%%bash\n",
    "ssh microbioinf@192.168.56.101 2>/dev/null /bin/bash <<'EOT'\n",
    "cd Documentos/Tema_4a\n",
    "export PATH=$PATH:/home/microbioinf/miniconda3/bin\n",
    "diamond makedb --in viral.protein.faa -d viralprotein\n",
    "EOT"
   ]
  },
  {
   "cell_type": "markdown",
   "metadata": {},
   "source": [
    "### Blastx alignments"
   ]
  },
  {
   "cell_type": "code",
   "execution_count": 1,
   "metadata": {},
   "outputs": [
    {
     "name": "stdout",
     "output_type": "stream",
     "text": [
      "diamond v0.8.36.98 | by Benjamin Buchfink <buchfink@gmail.com>\n",
      "Check http://github.com/bbuchfink/diamond for updates.\n",
      "\n",
      "#CPU threads: 3\n",
      "Scoring parameters: (Matrix=BLOSUM62 Lambda=0.267 K=0.041 Penalties=11/1)\n",
      "#Target sequences to report alignments for: 25\n",
      "Temporary directory: \n",
      "Opening the database...  [1.5e-05s]\n",
      "Opening the input file...  [2.8e-05s]\n",
      "Opening the output file...  [4.1e-05s]\n",
      "Loading query sequences...  [0.235952s]\n",
      "Running complexity filter...  [3.78898s]\n",
      "Building query histograms...  [0.318931s]\n",
      "Allocating buffers...  [6.2e-05s]\n",
      "Loading reference sequences...  [0.107758s]\n",
      "Building reference histograms...  [1.18488s]\n",
      "Allocating buffers...  [6.1e-05s]\n",
      "Initializing temporary storage...  [0.000619s]\n",
      "Processing query chunk 0, reference chunk 0, shape 0, index chunk 0.\n",
      "Building reference index...  [0.969958s]\n",
      "Building query index...  [0.217957s]\n",
      "Building seed filter...  [0.091635s]\n",
      "Searching alignments...  [0.137262s]\n",
      "Processing query chunk 0, reference chunk 0, shape 0, index chunk 1.\n",
      "Building reference index...  [1.11468s]\n",
      "Building query index...  [0.246178s]\n",
      "Building seed filter...  [0.090143s]\n",
      "Searching alignments...  [0.138724s]\n",
      "Processing query chunk 0, reference chunk 0, shape 0, index chunk 2.\n",
      "Building reference index...  [1.127s]\n",
      "Building query index...  [0.249563s]\n",
      "Building seed filter...  [0.109712s]\n",
      "Searching alignments...  [0.183329s]\n",
      "Processing query chunk 0, reference chunk 0, shape 0, index chunk 3.\n",
      "Building reference index...  [1.26957s]\n",
      "Building query index...  [0.370472s]\n",
      "Building seed filter...  [0.150778s]\n",
      "Searching alignments...  [0.22253s]\n",
      "Processing query chunk 0, reference chunk 0, shape 1, index chunk 0.\n",
      "Building reference index...  [1.34065s]\n",
      "Building query index...  [0.265761s]\n",
      "Building seed filter...  [0.113665s]\n",
      "Searching alignments...  [0.429611s]\n",
      "Processing query chunk 0, reference chunk 0, shape 1, index chunk 1.\n",
      "Building reference index...  [1.4586s]\n",
      "Building query index...  [0.295433s]\n",
      "Building seed filter...  [0.120444s]\n",
      "Searching alignments...  [0.16581s]\n",
      "Processing query chunk 0, reference chunk 0, shape 1, index chunk 2.\n",
      "Building reference index...  [1.45692s]\n",
      "Building query index...  [0.302227s]\n",
      "Building seed filter...  [0.110777s]\n",
      "Searching alignments...  [0.159347s]\n",
      "Processing query chunk 0, reference chunk 0, shape 1, index chunk 3.\n",
      "Building reference index...  [1.3176s]\n",
      "Building query index...  [0.278914s]\n",
      "Building seed filter...  [0.115424s]\n",
      "Searching alignments...  [0.165368s]\n",
      "Processing query chunk 0, reference chunk 0, shape 2, index chunk 0.\n",
      "Building reference index...  [1.33535s]\n",
      "Building query index...  [0.246887s]\n",
      "Building seed filter...  [0.117666s]\n",
      "Searching alignments...  [0.147365s]\n",
      "Processing query chunk 0, reference chunk 0, shape 2, index chunk 1.\n",
      "Building reference index...  [1.31552s]\n",
      "Building query index...  [0.204659s]\n",
      "Building seed filter...  [0.087173s]\n",
      "Searching alignments...  [0.110421s]\n",
      "Processing query chunk 0, reference chunk 0, shape 2, index chunk 2.\n",
      "Building reference index...  [1.10052s]\n",
      "Building query index...  [0.21389s]\n",
      "Building seed filter...  [0.086331s]\n",
      "Searching alignments...  [0.109901s]\n",
      "Processing query chunk 0, reference chunk 0, shape 2, index chunk 3.\n",
      "Building reference index...  [0.938978s]\n",
      "Building query index...  [0.179356s]\n",
      "Building seed filter...  [0.085301s]\n",
      "Searching alignments...  [0.109947s]\n",
      "Processing query chunk 0, reference chunk 0, shape 3, index chunk 0.\n",
      "Building reference index...  [0.920597s]\n",
      "Building query index...  [0.171162s]\n",
      "Building seed filter...  [0.085914s]\n",
      "Searching alignments...  [0.101702s]\n",
      "Processing query chunk 0, reference chunk 0, shape 3, index chunk 1.\n",
      "Building reference index...  [1.04422s]\n",
      "Building query index...  [0.199129s]\n",
      "Building seed filter...  [0.084341s]\n",
      "Searching alignments...  [0.106007s]\n",
      "Processing query chunk 0, reference chunk 0, shape 3, index chunk 2.\n",
      "Building reference index...  [1.0729s]\n",
      "Building query index...  [0.204229s]\n",
      "Building seed filter...  [0.085288s]\n",
      "Searching alignments...  [0.127639s]\n",
      "Processing query chunk 0, reference chunk 0, shape 3, index chunk 3.\n",
      "Building reference index...  [0.903671s]\n",
      "Building query index...  [0.167927s]\n",
      "Building seed filter...  [0.089396s]\n",
      "Searching alignments...  [0.105627s]\n",
      "Deallocating buffers...  [0.009547s]\n",
      "Computing alignments...  [1.84423s]\n",
      "Deallocating reference...  [0.00306s]\n",
      "Loading reference sequences...  [2.2e-05s]\n",
      "Deallocating buffers...  [0.002337s]\n",
      "Deallocating queries...  [0.002664s]\n",
      "Loading query sequences...  [2.2e-05s]\n",
      "Closing the input file...  [7e-06s]\n",
      "Closing the output file...  [0.005769s]\n",
      "Closing the database file...  [1.7e-05s]\n",
      "Total time = 34.1638s\n",
      "Reported 75459 pairwise alignments, 75459 HSSPs.\n",
      "12725 queries aligned.\n",
      "diamond v0.8.36.98 | by Benjamin Buchfink <buchfink@gmail.com>\n",
      "Check http://github.com/bbuchfink/diamond for updates.\n",
      "\n",
      "#CPU threads: 3\n",
      "Scoring parameters: (Matrix=BLOSUM62 Lambda=0.267 K=0.041 Penalties=11/1)\n",
      "#Target sequences to report alignments for: 25\n",
      "Temporary directory: \n",
      "Opening the database...  [1.5e-05s]\n",
      "Opening the input file...  [2.8e-05s]\n",
      "Opening the output file...  [7.2e-05s]\n",
      "Loading query sequences...  [0.128431s]\n",
      "Running complexity filter...  [1.89243s]\n",
      "Building query histograms...  [0.160397s]\n",
      "Allocating buffers...  [7.4e-05s]\n",
      "Loading reference sequences...  [0.112703s]\n",
      "Building reference histograms...  [1.18714s]\n",
      "Allocating buffers...  [0.000131s]\n",
      "Initializing temporary storage...  [0.000738s]\n",
      "Processing query chunk 0, reference chunk 0, shape 0, index chunk 0.\n",
      "Building reference index...  [0.973812s]\n",
      "Building query index...  [0.118915s]\n",
      "Building seed filter...  [0.085079s]\n",
      "Searching alignments...  [0.088929s]\n",
      "Processing query chunk 0, reference chunk 0, shape 0, index chunk 1.\n",
      "Building reference index...  [1.2453s]\n",
      "Building query index...  [0.13635s]\n",
      "Building seed filter...  [0.087573s]\n",
      "Searching alignments...  [0.096991s]\n",
      "Processing query chunk 0, reference chunk 0, shape 0, index chunk 2.\n",
      "Building reference index...  [1.17932s]\n",
      "Building query index...  [0.136485s]\n",
      "Building seed filter...  [0.08577s]\n",
      "Searching alignments...  [0.087322s]\n",
      "Processing query chunk 0, reference chunk 0, shape 0, index chunk 3.\n",
      "Building reference index...  [0.960882s]\n",
      "Building query index...  [0.116979s]\n",
      "Building seed filter...  [0.08987s]\n",
      "Searching alignments...  [0.086879s]\n",
      "Processing query chunk 0, reference chunk 0, shape 1, index chunk 0.\n",
      "Building reference index...  [0.947816s]\n",
      "Building query index...  [0.125525s]\n",
      "Building seed filter...  [0.089527s]\n",
      "Searching alignments...  [0.081632s]\n",
      "Processing query chunk 0, reference chunk 0, shape 1, index chunk 1.\n",
      "Building reference index...  [1.09524s]\n",
      "Building query index...  [0.129516s]\n",
      "Building seed filter...  [0.088017s]\n",
      "Searching alignments...  [0.080841s]\n",
      "Processing query chunk 0, reference chunk 0, shape 1, index chunk 2.\n",
      "Building reference index...  [1.11805s]\n",
      "Building query index...  [0.12736s]\n",
      "Building seed filter...  [0.086305s]\n",
      "Searching alignments...  [0.083204s]\n",
      "Processing query chunk 0, reference chunk 0, shape 1, index chunk 3.\n",
      "Building reference index...  [0.932964s]\n",
      "Building query index...  [0.109149s]\n",
      "Building seed filter...  [0.082084s]\n",
      "Searching alignments...  [0.080282s]\n",
      "Processing query chunk 0, reference chunk 0, shape 2, index chunk 0.\n",
      "Building reference index...  [0.93305s]\n",
      "Building query index...  [0.101445s]\n",
      "Building seed filter...  [0.081855s]\n",
      "Searching alignments...  [0.07451s]\n",
      "Processing query chunk 0, reference chunk 0, shape 2, index chunk 1.\n",
      "Building reference index...  [1.04542s]\n",
      "Building query index...  [0.114735s]\n",
      "Building seed filter...  [0.081284s]\n",
      "Searching alignments...  [0.074126s]\n",
      "Processing query chunk 0, reference chunk 0, shape 2, index chunk 2.\n",
      "Building reference index...  [1.08343s]\n",
      "Building query index...  [0.124619s]\n",
      "Building seed filter...  [0.082408s]\n",
      "Searching alignments...  [0.069044s]\n",
      "Processing query chunk 0, reference chunk 0, shape 2, index chunk 3.\n",
      "Building reference index...  [0.901484s]\n",
      "Building query index...  [0.104237s]\n",
      "Building seed filter...  [0.081542s]\n",
      "Searching alignments...  [0.070414s]\n",
      "Processing query chunk 0, reference chunk 0, shape 3, index chunk 0.\n",
      "Building reference index...  [0.907908s]\n",
      "Building query index...  [0.094342s]\n",
      "Building seed filter...  [0.079934s]\n",
      "Searching alignments...  [0.070951s]\n",
      "Processing query chunk 0, reference chunk 0, shape 3, index chunk 1.\n",
      "Building reference index...  [1.05012s]\n",
      "Building query index...  [0.109936s]\n",
      "Building seed filter...  [0.082596s]\n",
      "Searching alignments...  [0.07083s]\n",
      "Processing query chunk 0, reference chunk 0, shape 3, index chunk 2.\n",
      "Building reference index...  [1.09294s]\n",
      "Building query index...  [0.117459s]\n",
      "Building seed filter...  [0.083417s]\n",
      "Searching alignments...  [0.073389s]\n",
      "Processing query chunk 0, reference chunk 0, shape 3, index chunk 3.\n",
      "Building reference index...  [0.929055s]\n",
      "Building query index...  [0.099267s]\n",
      "Building seed filter...  [0.082223s]\n",
      "Searching alignments...  [0.069398s]\n",
      "Deallocating buffers...  [0.010661s]\n",
      "Computing alignments...  [0.215504s]\n",
      "Deallocating reference...  [0.004664s]\n",
      "Loading reference sequences...  [5.2e-05s]\n",
      "Deallocating buffers...  [0.000984s]\n",
      "Deallocating queries...  [0.001405s]\n",
      "Loading query sequences...  [2.7e-05s]\n",
      "Closing the input file...  [1.9e-05s]\n",
      "Closing the output file...  [0.002279s]\n",
      "Closing the database file...  [1.7e-05s]\n",
      "Total time = 24.599s\n",
      "Reported 6449 pairwise alignments, 6449 HSSPs.\n",
      "1288 queries aligned.\n"
     ]
    }
   ],
   "source": [
    "%%bash\n",
    "ssh microbioinf@192.168.56.101 2>/dev/null /bin/bash <<'EOT'\n",
    "cd Documentos/Tema_4a\n",
    "export PATH=$PATH:/home/microbioinf/miniconda3/bin\n",
    "diamond blastx -d viralprotein.dmnd  -q kneaddata_out/Vir1_R1_100000_kneaddata.fastq -o Vir1HQ_Vs_viralprotein.m8\n",
    "diamond blastx -d viralprotein.dmnd  -q kneaddata_out/Bact1_R1_200000_kneaddata.fastq -o Bact1HQ_Vs_viralprotein.m8\n",
    "EOT"
   ]
  },
  {
   "cell_type": "code",
   "execution_count": 44,
   "metadata": {},
   "outputs": [],
   "source": [
    "%%bash --out output\n",
    "ssh microbioinf@192.168.56.101 2>/dev/null  /bin/bash <<'EOT'\n",
    "cd Documentos/Tema_4a\n",
    "head -n 1 *fq\n",
    "grep -c \"@M02255\" *fq\n",
    "EOT"
   ]
  },
  {
   "cell_type": "code",
   "execution_count": 50,
   "metadata": {},
   "outputs": [
    {
     "name": "stdout",
     "output_type": "stream",
     "text": [
      "==> Bact1_R1_200000.fq <==\n",
      "@M02255:131:000000000-AJC6R:1:2102:25217:13392_1:N:0:ACAGTG\n",
      "\n",
      "==> Bact1_R2_200000.fq <==\n",
      "@M02255:131:000000000-AJC6R:1:2102:25217:13392_2:N:0:ACAGTG\n",
      "\n",
      "==> Vir1_R1_100000.fq <==\n",
      "@M02255:131:000000000-AJC6R:1:1105:23249:10170_1:N:0:AGTCAA\n",
      "\n",
      "==> Vir1_R2_100000.fq <==\n",
      "@M02255:131:000000000-AJC6R:1:1105:23249:10170_2:N:0:AGTCAA\n",
      "Bact1_R1_200000.fq:200000\n",
      "Bact1_R2_200000.fq:200000\n",
      "Vir1_R1_100000.fq:100000\n",
      "Vir1_R2_100000.fq:100000\n",
      "\n"
     ]
    }
   ],
   "source": [
    "print(output)"
   ]
  },
  {
   "cell_type": "code",
   "execution_count": 49,
   "metadata": {},
   "outputs": [
    {
     "data": {
      "text/plain": [
       "['==> Bact1_R1_200000.fq <==',\n",
       " '@M02255:131:000000000-AJC6R:1:2102:25217:13392_1:N:0:ACAGTG',\n",
       " '',\n",
       " '==> Bact1_R2_200000.fq <==',\n",
       " '@M02255:131:000000000-AJC6R:1:2102:25217:13392_2:N:0:ACAGTG',\n",
       " '',\n",
       " '==> Vir1_R1_100000.fq <==',\n",
       " '@M02255:131:000000000-AJC6R:1:1105:23249:10170_1:N:0:AGTCAA',\n",
       " '',\n",
       " '==> Vir1_R2_100000.fq <==',\n",
       " '@M02255:131:000000000-AJC6R:1:1105:23249:10170_2:N:0:AGTCAA',\n",
       " 'Bact1_R1_200000.fq:200000',\n",
       " 'Bact1_R2_200000.fq:200000',\n",
       " 'Vir1_R1_100000.fq:100000',\n",
       " 'Vir1_R2_100000.fq:100000',\n",
       " '']"
      ]
     },
     "execution_count": 49,
     "metadata": {},
     "output_type": "execute_result"
    }
   ],
   "source": [
    "alist = output.split('\\n')\n",
    "alist"
   ]
  },
  {
   "cell_type": "code",
   "execution_count": null,
   "metadata": {},
   "outputs": [],
   "source": [
    "Bacteria"
   ]
  },
  {
   "cell_type": "code",
   "execution_count": null,
   "metadata": {},
   "outputs": [],
   "source": [
    "root: 1288.0\n",
    "  Viruses: 922.0\n",
    "    dsDNA viruses, no RNA stage: 898.0\n",
    "      Ascoviridae: 6.0\n",
    "      Baculoviridae: 1.0\n",
    "      Caudovirales: 619.0\n",
    "        Ackermannviridae: 1.0\n",
    "        Myoviridae: 343.0\n",
    "        Podoviridae: 37.0\n",
    "        Siphoviridae: 225.0\n",
    "        unclassified Caudovirales: 3.0\n",
    "      Herpesvirales: 3.0\n",
    "        Herpesviridae: 3.0\n",
    "      Iridoviridae: 8.0\n",
    "      Marseilleviridae: 2.0\n",
    "      Mimiviridae: 62.0\n",
    "      Nimaviridae: 1.0\n",
    "      Nudiviridae: 2.0\n",
    "      Phycodnaviridae: 123.0\n",
    "      Poxviridae: 18.0\n",
    "      unclassified archaeal dsDNA viruses: 4.0\n",
    "      unclassified dsDNA phages: 9.0\n",
    "      unclassified dsDNA viruses: 28.0\n",
    "        Pandoravirus: 15.0\n",
    "        Pithoviridae: 13.0\n",
    "    Ortervirales: 4.0\n",
    "      Retroviridae: 4.0\n",
    "    ssDNA viruses: 2.0\n",
    "      Inoviridae: 1.0\n",
    "      unclassified ssDNA bacterial viruses: 1.0\n",
    "    unclassified bacterial viruses: 12.0\n",
    "    unclassified viruses: 4.0\n",
    "      Kaumoebavirus: 2.0\n",
    "      Mollivirus sibericum: 2.0\n",
    "  Not assigned: 332.0"
   ]
  },
  {
   "cell_type": "code",
   "execution_count": null,
   "metadata": {},
   "outputs": [],
   "source": [
    "recomputed\n",
    "root: 1288.0\n",
    "  Viruses: 589.0\n",
    "    dsDNA viruses, no RNA stage: 579.0\n",
    "      Ascoviridae: 4.0\n",
    "      Caudovirales: 441.0\n",
    "        Myoviridae: 250.0\n",
    "        Podoviridae: 20.0\n",
    "        Siphoviridae: 163.0\n",
    "        unclassified Caudovirales: 2.0\n",
    "      Iridoviridae: 6.0\n",
    "      Mimiviridae: 35.0\n",
    "      Nudiviridae: 1.0\n",
    "      Phycodnaviridae: 69.0\n",
    "      Poxviridae: 1.0\n",
    "      unclassified archaeal dsDNA viruses: 1.0\n",
    "      unclassified dsDNA phages: 4.0\n",
    "      unclassified dsDNA viruses: 8.0\n",
    "        Pandoravirus: 8.0\n",
    "    ssDNA viruses: 1.0\n",
    "      Inoviridae: 1.0\n",
    "    unclassified bacterial viruses: 5.0\n",
    "    unclassified viruses: 3.0\n",
    "      Kaumoebavirus: 2.0\n",
    "      Mollivirus sibericum: 1.0\n",
    "  Not assigned: 674.0"
   ]
  },
  {
   "cell_type": "markdown",
   "metadata": {},
   "source": [
    "**Viruses**\n"
   ]
  },
  {
   "cell_type": "code",
   "execution_count": null,
   "metadata": {},
   "outputs": [],
   "source": [
    "       Myoviridae: 564.0\n",
    "        Podoviridae: 1055.0\n",
    "        Siphoviridae: 7232.0\n",
    "      Mimiviridae: 11.0"
   ]
  },
  {
   "cell_type": "code",
   "execution_count": null,
   "metadata": {},
   "outputs": [],
   "source": [
    "New params:\n",
    "root: 12725.0\n",
    "  Viruses: 8224.0\n",
    "    dsDNA viruses, no RNA stage: 7338.0\n",
    "      Caudovirales: 7190.0\n",
    "        Myoviridae: 338.0\n",
    "        Podoviridae: 823.0\n",
    "        Siphoviridae: 5677.0\n",
    "        unclassified Caudovirales: 11.0\n",
    "      Phycodnaviridae: 9.0\n",
    "      unclassified archaeal dsDNA viruses: 9.0\n",
    "      unclassified dsDNA phages: 21.0\n",
    "    unclassified bacterial viruses: 862.0\n",
    "  Not assigned: 4375.0"
   ]
  }
 ],
 "metadata": {
  "kernelspec": {
   "display_name": "Python 3",
   "language": "python",
   "name": "python3"
  },
  "language_info": {
   "codemirror_mode": {
    "name": "ipython",
    "version": 3
   },
   "file_extension": ".py",
   "mimetype": "text/x-python",
   "name": "python",
   "nbconvert_exporter": "python",
   "pygments_lexer": "ipython3",
   "version": "3.7.1"
  },
  "nbTranslate": {
   "displayLangs": [
    "*"
   ],
   "hotkey": "alt-t",
   "langInMainMenu": true,
   "sourceLang": "en",
   "targetLang": "fr",
   "useGoogleTranslate": true
  },
  "toc": {
   "base_numbering": 1,
   "nav_menu": {},
   "number_sections": true,
   "sideBar": true,
   "skip_h1_title": false,
   "title_cell": "Table of Contents",
   "title_sidebar": "Contents",
   "toc_cell": false,
   "toc_position": {},
   "toc_section_display": true,
   "toc_window_display": true
  }
 },
 "nbformat": 4,
 "nbformat_minor": 2
}
